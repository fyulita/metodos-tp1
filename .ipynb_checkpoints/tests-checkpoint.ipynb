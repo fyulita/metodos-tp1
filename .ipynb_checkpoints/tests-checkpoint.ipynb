{
 "cells": [
  {
   "cell_type": "markdown",
   "metadata": {},
   "source": [
    "# Tests cortitos"
   ]
  },
  {
   "cell_type": "markdown",
   "metadata": {},
   "source": [
    "### Importamos la librerías necesarias"
   ]
  },
  {
   "cell_type": "code",
   "execution_count": 1,
   "metadata": {},
   "outputs": [],
   "source": [
    "import numpy as np\n",
    "import matplotlib.pyplot as plt\n",
    "import subprocess\n",
    "import time\n",
    "from tqdm import tqdm"
   ]
  },
  {
   "cell_type": "markdown",
   "metadata": {},
   "source": [
    "### Definimos las funciones necesarias para correr las funciones de C++ y chequearlas"
   ]
  },
  {
   "cell_type": "code",
   "execution_count": 2,
   "metadata": {},
   "outputs": [],
   "source": [
    "# Corre alguna de las funciones de C++ (especificando el metodo segun el README.md),\n",
    "# guarda el archivo de salida en la misma carpeta y devuelve el tiempo de computo.\n",
    "def runMethod(filePATH, method, outputPATH):\n",
    "    startTime = time.time()\n",
    "    process = subprocess.run(['./tp01', filePATH, outputPATH, str(method)])\n",
    "    endTime = time.time()\n",
    "    duration = endTime - startTime\n",
    "    return duration\n",
    "\n",
    "\n",
    "def equalWithError(a, b, e):\n",
    "    ans = True\n",
    "    if (a + e < b - e and a - e > b + e):\n",
    "        ans = False\n",
    "    return ans\n",
    "\n",
    "\n",
    "# Chequea que el output de un test sea igual que el esperado.\n",
    "def checkOutput(outputPATH, expectedPATH, error):\n",
    "    output = open(outputPATH, 'r').readlines()\n",
    "    expected = open(expectedPATH, 'r').readlines()\n",
    "    \n",
    "    if len(output) != len(expected):\n",
    "        return 'ERROR: El output y el expected no miden lo mismo.' \n",
    "    else:\n",
    "        ans = True\n",
    "        for line in range(len(output)):\n",
    "            if not equalWithError(float(output[line]), float(output[line]), error):\n",
    "                ans = False\n",
    "        if ans:\n",
    "            return f'El output es igual al esperado con un error de {error}.'\n",
    "        else:\n",
    "            return f'El output no es igual al esperado.'"
   ]
  },
  {
   "cell_type": "markdown",
   "metadata": {},
   "source": [
    "### Usamos los tests que armamos para chequear las funciones"
   ]
  },
  {
   "cell_type": "code",
   "execution_count": 3,
   "metadata": {},
   "outputs": [],
   "source": [
    "testWPPATH = 'src/TestsWP/'\n",
    "testCMMPATH = 'src/TestsCMM/'\n",
    "tests = ['test1', 'test2', 'test-prob-1', 'test-prob-2']\n",
    "\n",
    "error = 1e-4"
   ]
  },
  {
   "cell_type": "code",
   "execution_count": 4,
   "metadata": {
    "scrolled": true
   },
   "outputs": [
    {
     "name": "stdout",
     "output_type": "stream",
     "text": [
      "-------- WP Tests --------\n",
      "test1: El output es igual al esperado con un error de 0.0001.\n",
      "test2: El output es igual al esperado con un error de 0.0001.\n",
      "test-prob-1: El output es igual al esperado con un error de 0.0001.\n",
      "test-prob-2: El output es igual al esperado con un error de 0.0001.\n",
      "-------- CMM Tests --------\n",
      "test1: El output es igual al esperado con un error de 0.0001.\n",
      "test2: El output es igual al esperado con un error de 0.0001.\n",
      "test-prob-1: El output es igual al esperado con un error de 0.0001.\n",
      "test-prob-2: El output es igual al esperado con un error de 0.0001.\n"
     ]
    }
   ],
   "source": [
    "for i in range(len(tests)):\n",
    "    runMethod(testWPPATH + tests[i] + '.in', 0, testWPPATH + tests[i] + '.out')\n",
    "    runMethod(testCMMPATH + tests[i] + '.in', 0, testCMMPATH + tests[i] + '.out')\n",
    "\n",
    "print('-------- WP Tests --------')\n",
    "for i in range(len(tests)):\n",
    "    print(tests[i] + ': ' + checkOutput(testWPPATH + tests[i] + '.out', testWPPATH + tests[i] + '.expected', error))\n",
    "\n",
    "print('-------- CMM Tests --------')\n",
    "for i in range(len(tests)):\n",
    "    print(tests[i] + ': ' + checkOutput(testCMMPATH + tests[i] + '.out', testCMMPATH + tests[i] + '.expected', error))"
   ]
  },
  {
   "cell_type": "markdown",
   "metadata": {},
   "source": [
    "### Armamos listas con tuplas del tiempo promedio de cómputo de cada test y de la desviación estándar"
   ]
  },
  {
   "cell_type": "code",
   "execution_count": 5,
   "metadata": {},
   "outputs": [],
   "source": [
    "def getAvgTime(filePATH, method, outputPATH, n=100):\n",
    "    times = []\n",
    "    for _ in range(n):\n",
    "        times.append(runMethod(filePATH, method, outputPATH))\n",
    "    return np.mean(times), np.std(times)"
   ]
  },
  {
   "cell_type": "code",
   "execution_count": 6,
   "metadata": {},
   "outputs": [
    {
     "name": "stderr",
     "output_type": "stream",
     "text": [
      "100%|██████████| 4/4 [00:02<00:00,  1.57it/s]"
     ]
    },
    {
     "name": "stdout",
     "output_type": "stream",
     "text": [
      "[(0.004183611869812012, 0.001816054209919107), (0.003174316883087158, 0.0004239626914583033), (0.0030420422554016113, 0.0003618104340535396), (0.0029207277297973633, 0.00023501891349915206)]\n",
      "[(0.0029125618934631348, 0.00010889344178412864), (0.0032942867279052734, 0.00035294194985082094), (0.0028781008720397947, 9.673447510155373e-05), (0.002918245792388916, 0.00013947086448708586)]\n"
     ]
    },
    {
     "name": "stderr",
     "output_type": "stream",
     "text": [
      "\n"
     ]
    }
   ],
   "source": [
    "timesWP = []\n",
    "timesCMM = []\n",
    "for i in tqdm(range(len(tests))):\n",
    "    timesWP.append(getAvgTime(testWPPATH + tests[i] + '.in', 0, testWPPATH + tests[i] + '.out'))\n",
    "    timesCMM.append(getAvgTime(testCMMPATH + tests[i] + '.in', 0, testCMMPATH + tests[i] + '.out'))\n",
    "\n",
    "print(timesWP)\n",
    "print(timesCMM)"
   ]
  },
  {
   "cell_type": "markdown",
   "metadata": {},
   "source": [
    "# Tests posta"
   ]
  },
  {
   "cell_type": "markdown",
   "metadata": {},
   "source": [
    "### Definimos los archivos con equipos de NBA (Basketball) y jugadores de ATP (Tennis)."
   ]
  },
  {
   "cell_type": "code",
   "execution_count": 25,
   "metadata": {},
   "outputs": [],
   "source": [
    "import pandas as pd\n",
    "\n",
    "\n",
    "teamsNBA = pd.read_csv('data/nba_2016_teams.csv', names=['id', 'team'])\n",
    "playersATP = pd.read_csv('data/atp_players.csv', encoding='latin-1', names=['id', 'name', 'last name', 'hand', 'born', 'country'])"
   ]
  },
  {
   "cell_type": "markdown",
   "metadata": {},
   "source": [
    "## NBA"
   ]
  },
  {
   "cell_type": "code",
   "execution_count": 26,
   "metadata": {},
   "outputs": [
    {
     "name": "stdout",
     "output_type": "stream",
     "text": [
      "------ Equipos ------\n",
      "    id            team\n",
      "0    1         Atlanta\n",
      "1    2          Boston\n",
      "2    3        Brooklyn\n",
      "3    4       Charlotte\n",
      "4    5         Chicago\n",
      "5    6       Cleveland\n",
      "6    7          Dallas\n",
      "7    8          Denver\n",
      "8    9         Detroit\n",
      "9   10    Golden_State\n",
      "10  11         Houston\n",
      "11  12         Indiana\n",
      "12  13     LA_Clippers\n",
      "13  14       LA_Lakers\n",
      "14  15         Memphis\n",
      "15  16           Miami\n",
      "16  17       Milwaukee\n",
      "17  18       Minnesota\n",
      "18  19     New_Orleans\n",
      "19  20        New_York\n",
      "20  21   Oklahoma_City\n",
      "21  22         Orlando\n",
      "22  23    Philadelphia\n",
      "23  24         Phoenix\n",
      "24  25        Portland\n",
      "25  26      Sacramento\n",
      "26  27     San_Antonio\n",
      "27  28         Toronto\n",
      "28  29            Utah\n",
      "29  30      Washington\n"
     ]
    }
   ],
   "source": [
    "print('------ Equipos ------')\n",
    "print(teamsNBA)"
   ]
  },
  {
   "cell_type": "markdown",
   "metadata": {},
   "source": [
    "### Ejecutemos las funciones WP y CMM para estos equipos."
   ]
  },
  {
   "cell_type": "code",
   "execution_count": 27,
   "metadata": {},
   "outputs": [
    {
     "data": {
      "text/plain": [
       "0.00638270378112793"
      ]
     },
     "execution_count": 27,
     "metadata": {},
     "output_type": "execute_result"
    }
   ],
   "source": [
    "runMethod('data/nba_2016_scores.in', 0, 'data/nba_2016_scores_0.out')\n",
    "runMethod('data/nba_2016_scores.in', 1, 'data/nba_2016_scores_1.out')"
   ]
  },
  {
   "cell_type": "markdown",
   "metadata": {},
   "source": [
    "### Veamos el ranking según CMM."
   ]
  },
  {
   "cell_type": "code",
   "execution_count": 28,
   "metadata": {},
   "outputs": [
    {
     "name": "stdout",
     "output_type": "stream",
     "text": [
      "    id            team    rating\n",
      "0    1         Atlanta  0.558822\n",
      "1    2          Boston  0.565690\n",
      "2    3        Brooklyn  0.290736\n",
      "3    4       Charlotte  0.558224\n",
      "4    5         Chicago  0.516007\n",
      "5    6       Cleveland  0.692428\n",
      "6    7          Dallas  0.502178\n",
      "7    8          Denver  0.420858\n",
      "8    9         Detroit  0.500250\n",
      "9   10    Golden_State  0.874063\n",
      "10  11         Houston  0.511327\n",
      "11  12         Indiana  0.547962\n",
      "12  13     LA_Clippers  0.629708\n",
      "13  14       LA_Lakers  0.236722\n",
      "14  15         Memphis  0.563176\n",
      "15  16           Miami  0.577367\n",
      "16  17       Milwaukee  0.435025\n",
      "17  18       Minnesota  0.319984\n",
      "18  19     New_Orleans  0.384521\n",
      "19  20        New_York  0.414393\n",
      "20  21   Oklahoma_City  0.655552\n",
      "21  22         Orlando  0.432244\n",
      "22  23    Philadelphia  0.150813\n",
      "23  24         Phoenix  0.298952\n",
      "24  25        Portland  0.515941\n",
      "25  26      Sacramento  0.412817\n",
      "26  27     San_Antonio  0.803976\n",
      "27  28         Toronto  0.659347\n",
      "28  29            Utah  0.487206\n",
      "29  30      Washington  0.483709\n"
     ]
    }
   ],
   "source": [
    "file = open('data/nba_2016_scores_0.out', 'r').readlines()\n",
    "rating = []\n",
    "for line in file:\n",
    "    rating.append(float(line))\n",
    "\n",
    "teamsNBA.insert(2, 'rating', rating)\n",
    "print(teamsNBA)"
   ]
  },
  {
   "cell_type": "code",
   "execution_count": 29,
   "metadata": {},
   "outputs": [
    {
     "name": "stdout",
     "output_type": "stream",
     "text": [
      "------ Ranking ------\n",
      "    id            team    rating\n",
      "9   10    Golden_State  0.874063\n",
      "26  27     San_Antonio  0.803976\n",
      "5    6       Cleveland  0.692428\n",
      "27  28         Toronto  0.659347\n",
      "20  21   Oklahoma_City  0.655552\n",
      "12  13     LA_Clippers  0.629708\n",
      "15  16           Miami  0.577367\n",
      "1    2          Boston  0.565690\n",
      "14  15         Memphis  0.563176\n",
      "0    1         Atlanta  0.558822\n",
      "3    4       Charlotte  0.558224\n",
      "11  12         Indiana  0.547962\n",
      "4    5         Chicago  0.516007\n",
      "24  25        Portland  0.515941\n",
      "10  11         Houston  0.511327\n",
      "6    7          Dallas  0.502178\n",
      "8    9         Detroit  0.500250\n",
      "28  29            Utah  0.487206\n",
      "29  30      Washington  0.483709\n",
      "16  17       Milwaukee  0.435025\n",
      "21  22         Orlando  0.432244\n",
      "7    8          Denver  0.420858\n",
      "19  20        New_York  0.414393\n",
      "25  26      Sacramento  0.412817\n",
      "18  19     New_Orleans  0.384521\n",
      "17  18       Minnesota  0.319984\n",
      "23  24         Phoenix  0.298952\n",
      "2    3        Brooklyn  0.290736\n",
      "13  14       LA_Lakers  0.236722\n",
      "22  23    Philadelphia  0.150813\n"
     ]
    }
   ],
   "source": [
    "print('------ Ranking ------')\n",
    "\n",
    "teamsNBA_ordered = teamsNBA.sort_values(by='rating', ascending=False)\n",
    "print(teamsNBA_ordered)"
   ]
  },
  {
   "cell_type": "markdown",
   "metadata": {},
   "source": [
    "## ATP"
   ]
  },
  {
   "cell_type": "markdown",
   "metadata": {},
   "source": [
    "### Ahora hagamos lo mismo que hicimos para NBA con los datos de ATP."
   ]
  },
  {
   "cell_type": "code",
   "execution_count": 35,
   "metadata": {},
   "outputs": [
    {
     "name": "stdout",
     "output_type": "stream",
     "text": [
      "------ Jugadores ------\n",
      "           id            name        last name hand        born country\n",
      "0      100001         Gardnar           Mulloy    R  19131122.0     USA\n",
      "1      100002          Pancho           Segura    R  19210620.0     ECU\n",
      "2      100003           Frank          Sedgman    R  19271002.0     AUS\n",
      "3      100004        Giuseppe            Merlo    R  19271011.0     ITA\n",
      "4      100005  Richard Pancho         Gonzales    R  19280509.0     USA\n",
      "...       ...             ...              ...  ...         ...     ...\n",
      "45679  200593           Adria          Alvarez    U  19970412.0     ESP\n",
      "45680  200594        Kristian            Lozan    U  19981026.0     RUS\n",
      "45681  200595         Lorenzo           Bocchi    R  19971129.0     ITA\n",
      "45682  200596           Elvio         Di Cosmo    U  19971124.0     ITA\n",
      "45683  200597    Andres Ariel  Fernandez Lopez    R  19980421.0     ARG\n",
      "\n",
      "[45684 rows x 6 columns]\n"
     ]
    }
   ],
   "source": [
    "print('------ Jugadores ------')\n",
    "print(playersATP)"
   ]
  },
  {
   "cell_type": "code",
   "execution_count": 40,
   "metadata": {},
   "outputs": [
    {
     "data": {
      "text/plain": [
       "0.09747099876403809"
      ]
     },
     "execution_count": 40,
     "metadata": {},
     "output_type": "execute_result"
    }
   ],
   "source": [
    "runMethod('data/atp_matches_2015.in', 0, 'data/atp_matches_2015_0.out')\n",
    "runMethod('data/atp_matches_2015.in', 1, 'data/atp_matches_2015_1.out')"
   ]
  },
  {
   "cell_type": "code",
   "execution_count": 41,
   "metadata": {},
   "outputs": [
    {
     "ename": "FileNotFoundError",
     "evalue": "[Errno 2] No such file or directory: 'data/atp_matches_2015_0.out'",
     "output_type": "error",
     "traceback": [
      "\u001b[0;31m---------------------------------------------------------------------------\u001b[0m",
      "\u001b[0;31mFileNotFoundError\u001b[0m                         Traceback (most recent call last)",
      "\u001b[0;32m<ipython-input-41-2c177fb7530f>\u001b[0m in \u001b[0;36m<module>\u001b[0;34m\u001b[0m\n\u001b[0;32m----> 1\u001b[0;31m \u001b[0mfile\u001b[0m \u001b[0;34m=\u001b[0m \u001b[0mopen\u001b[0m\u001b[0;34m(\u001b[0m\u001b[0;34m'data/atp_matches_2015_0.out'\u001b[0m\u001b[0;34m,\u001b[0m \u001b[0;34m'r'\u001b[0m\u001b[0;34m)\u001b[0m\u001b[0;34m.\u001b[0m\u001b[0mreadlines\u001b[0m\u001b[0;34m(\u001b[0m\u001b[0;34m)\u001b[0m\u001b[0;34m\u001b[0m\u001b[0;34m\u001b[0m\u001b[0m\n\u001b[0m\u001b[1;32m      2\u001b[0m \u001b[0mrating\u001b[0m \u001b[0;34m=\u001b[0m \u001b[0;34m[\u001b[0m\u001b[0;34m]\u001b[0m\u001b[0;34m\u001b[0m\u001b[0;34m\u001b[0m\u001b[0m\n\u001b[1;32m      3\u001b[0m \u001b[0;32mfor\u001b[0m \u001b[0mline\u001b[0m \u001b[0;32min\u001b[0m \u001b[0mfile\u001b[0m\u001b[0;34m:\u001b[0m\u001b[0;34m\u001b[0m\u001b[0;34m\u001b[0m\u001b[0m\n\u001b[1;32m      4\u001b[0m     \u001b[0mrating\u001b[0m\u001b[0;34m.\u001b[0m\u001b[0mappend\u001b[0m\u001b[0;34m(\u001b[0m\u001b[0mfloat\u001b[0m\u001b[0;34m(\u001b[0m\u001b[0mline\u001b[0m\u001b[0;34m)\u001b[0m\u001b[0;34m)\u001b[0m\u001b[0;34m\u001b[0m\u001b[0;34m\u001b[0m\u001b[0m\n\u001b[1;32m      5\u001b[0m \u001b[0;34m\u001b[0m\u001b[0m\n",
      "\u001b[0;31mFileNotFoundError\u001b[0m: [Errno 2] No such file or directory: 'data/atp_matches_2015_0.out'"
     ]
    }
   ],
   "source": [
    "file = open('data/atp_matches_2015_0.out', 'r').readlines()\n",
    "rating = []\n",
    "for line in file:\n",
    "    rating.append(float(line))\n",
    "\n",
    "playersATP.insert(6, 'rating', rating)\n",
    "print(playersATP)"
   ]
  },
  {
   "cell_type": "code",
   "execution_count": 34,
   "metadata": {},
   "outputs": [
    {
     "name": "stdout",
     "output_type": "stream",
     "text": [
      "------ Ranking ------\n"
     ]
    },
    {
     "ename": "KeyError",
     "evalue": "'rating'",
     "output_type": "error",
     "traceback": [
      "\u001b[0;31m---------------------------------------------------------------------------\u001b[0m",
      "\u001b[0;31mKeyError\u001b[0m                                  Traceback (most recent call last)",
      "\u001b[0;32m<ipython-input-34-c2f58379a439>\u001b[0m in \u001b[0;36m<module>\u001b[0;34m\u001b[0m\n\u001b[1;32m      1\u001b[0m \u001b[0mprint\u001b[0m\u001b[0;34m(\u001b[0m\u001b[0;34m'------ Ranking ------'\u001b[0m\u001b[0;34m)\u001b[0m\u001b[0;34m\u001b[0m\u001b[0;34m\u001b[0m\u001b[0m\n\u001b[1;32m      2\u001b[0m \u001b[0;34m\u001b[0m\u001b[0m\n\u001b[0;32m----> 3\u001b[0;31m \u001b[0mplayerATP_ordered\u001b[0m \u001b[0;34m=\u001b[0m \u001b[0mplayersATP\u001b[0m\u001b[0;34m.\u001b[0m\u001b[0msort_values\u001b[0m\u001b[0;34m(\u001b[0m\u001b[0mby\u001b[0m\u001b[0;34m=\u001b[0m\u001b[0;34m'rating'\u001b[0m\u001b[0;34m,\u001b[0m \u001b[0mascending\u001b[0m\u001b[0;34m=\u001b[0m\u001b[0;32mFalse\u001b[0m\u001b[0;34m)\u001b[0m\u001b[0;34m\u001b[0m\u001b[0;34m\u001b[0m\u001b[0m\n\u001b[0m\u001b[1;32m      4\u001b[0m \u001b[0mprint\u001b[0m\u001b[0;34m(\u001b[0m\u001b[0mplayersATP_ordered\u001b[0m\u001b[0;34m)\u001b[0m\u001b[0;34m\u001b[0m\u001b[0;34m\u001b[0m\u001b[0m\n",
      "\u001b[0;32m~/.virtualenvs/scienv/lib/python3.8/site-packages/pandas/core/frame.py\u001b[0m in \u001b[0;36msort_values\u001b[0;34m(self, by, axis, ascending, inplace, kind, na_position, ignore_index)\u001b[0m\n\u001b[1;32m   4925\u001b[0m \u001b[0;34m\u001b[0m\u001b[0m\n\u001b[1;32m   4926\u001b[0m             \u001b[0mby\u001b[0m \u001b[0;34m=\u001b[0m \u001b[0mby\u001b[0m\u001b[0;34m[\u001b[0m\u001b[0;36m0\u001b[0m\u001b[0;34m]\u001b[0m\u001b[0;34m\u001b[0m\u001b[0;34m\u001b[0m\u001b[0m\n\u001b[0;32m-> 4927\u001b[0;31m             \u001b[0mk\u001b[0m \u001b[0;34m=\u001b[0m \u001b[0mself\u001b[0m\u001b[0;34m.\u001b[0m\u001b[0m_get_label_or_level_values\u001b[0m\u001b[0;34m(\u001b[0m\u001b[0mby\u001b[0m\u001b[0;34m,\u001b[0m \u001b[0maxis\u001b[0m\u001b[0;34m=\u001b[0m\u001b[0maxis\u001b[0m\u001b[0;34m)\u001b[0m\u001b[0;34m\u001b[0m\u001b[0;34m\u001b[0m\u001b[0m\n\u001b[0m\u001b[1;32m   4928\u001b[0m \u001b[0;34m\u001b[0m\u001b[0m\n\u001b[1;32m   4929\u001b[0m             \u001b[0;32mif\u001b[0m \u001b[0misinstance\u001b[0m\u001b[0;34m(\u001b[0m\u001b[0mascending\u001b[0m\u001b[0;34m,\u001b[0m \u001b[0;34m(\u001b[0m\u001b[0mtuple\u001b[0m\u001b[0;34m,\u001b[0m \u001b[0mlist\u001b[0m\u001b[0;34m)\u001b[0m\u001b[0;34m)\u001b[0m\u001b[0;34m:\u001b[0m\u001b[0;34m\u001b[0m\u001b[0;34m\u001b[0m\u001b[0m\n",
      "\u001b[0;32m~/.virtualenvs/scienv/lib/python3.8/site-packages/pandas/core/generic.py\u001b[0m in \u001b[0;36m_get_label_or_level_values\u001b[0;34m(self, key, axis)\u001b[0m\n\u001b[1;32m   1690\u001b[0m             \u001b[0mvalues\u001b[0m \u001b[0;34m=\u001b[0m \u001b[0mself\u001b[0m\u001b[0;34m.\u001b[0m\u001b[0maxes\u001b[0m\u001b[0;34m[\u001b[0m\u001b[0maxis\u001b[0m\u001b[0;34m]\u001b[0m\u001b[0;34m.\u001b[0m\u001b[0mget_level_values\u001b[0m\u001b[0;34m(\u001b[0m\u001b[0mkey\u001b[0m\u001b[0;34m)\u001b[0m\u001b[0;34m.\u001b[0m\u001b[0m_values\u001b[0m\u001b[0;34m\u001b[0m\u001b[0;34m\u001b[0m\u001b[0m\n\u001b[1;32m   1691\u001b[0m         \u001b[0;32melse\u001b[0m\u001b[0;34m:\u001b[0m\u001b[0;34m\u001b[0m\u001b[0;34m\u001b[0m\u001b[0m\n\u001b[0;32m-> 1692\u001b[0;31m             \u001b[0;32mraise\u001b[0m \u001b[0mKeyError\u001b[0m\u001b[0;34m(\u001b[0m\u001b[0mkey\u001b[0m\u001b[0;34m)\u001b[0m\u001b[0;34m\u001b[0m\u001b[0;34m\u001b[0m\u001b[0m\n\u001b[0m\u001b[1;32m   1693\u001b[0m \u001b[0;34m\u001b[0m\u001b[0m\n\u001b[1;32m   1694\u001b[0m         \u001b[0;31m# Check for duplicates\u001b[0m\u001b[0;34m\u001b[0m\u001b[0;34m\u001b[0m\u001b[0;34m\u001b[0m\u001b[0m\n",
      "\u001b[0;31mKeyError\u001b[0m: 'rating'"
     ]
    }
   ],
   "source": [
    "print('------ Ranking ------')\n",
    "\n",
    "playerATP_ordered = playersATP.sort_values(by='rating', ascending=False)\n",
    "print(playersATP_ordered)"
   ]
  },
  {
   "cell_type": "code",
   "execution_count": null,
   "metadata": {},
   "outputs": [],
   "source": []
  }
 ],
 "metadata": {
  "kernelspec": {
   "display_name": "Python 3",
   "language": "python",
   "name": "python3"
  },
  "language_info": {
   "codemirror_mode": {
    "name": "ipython",
    "version": 3
   },
   "file_extension": ".py",
   "mimetype": "text/x-python",
   "name": "python",
   "nbconvert_exporter": "python",
   "pygments_lexer": "ipython3",
   "version": "3.8.2"
  }
 },
 "nbformat": 4,
 "nbformat_minor": 4
}
