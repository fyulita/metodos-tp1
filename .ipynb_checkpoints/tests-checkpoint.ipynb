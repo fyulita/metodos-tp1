{
 "cells": [
  {
   "cell_type": "markdown",
   "metadata": {},
   "source": [
    "# Testing"
   ]
  },
  {
   "cell_type": "markdown",
   "metadata": {},
   "source": [
    "### Importamos la librerías necesarias"
   ]
  },
  {
   "cell_type": "code",
   "execution_count": 1,
   "metadata": {},
   "outputs": [],
   "source": [
    "import numpy as np\n",
    "import matplotlib.pyplot as plt\n",
    "import subprocess\n",
    "import time\n",
    "from tqdm import tqdm"
   ]
  },
  {
   "cell_type": "markdown",
   "metadata": {},
   "source": [
    "### Definimos las funciones necesarias"
   ]
  },
  {
   "cell_type": "code",
   "execution_count": 2,
   "metadata": {},
   "outputs": [],
   "source": [
    "def runMethod(filePATH, method):\n",
    "    outputPATH = filePATH[:-2] + 'out'\n",
    "    startTime = time.time()\n",
    "    process = subprocess.run(['./tp01', filePATH, outputPATH, str(method)])\n",
    "    endTime = time.time()\n",
    "    duration = endTime - startTime\n",
    "    return duration\n",
    "\n",
    "\n",
    "def getAvgTime(filePATH, method, n=100):\n",
    "    times = []\n",
    "    for _ in range(n):\n",
    "        times.append(runMethod(filePATH, method))\n",
    "    return np.mean(times), np.std(times)\n",
    "\n",
    "\n",
    "def equalWithError(a, b, e):\n",
    "    ans = True\n",
    "    if (a + e < b - e and a - e > b + e):\n",
    "        ans = False\n",
    "    return ans\n",
    "\n",
    "\n",
    "def checkOutput(outputPATH, expectedPATH, error):\n",
    "    output = open(outputPATH, 'r').readlines()\n",
    "    expected = open(expectedPATH, 'r').readlines()\n",
    "    \n",
    "    if len(output) != len(expected):\n",
    "        return 'ERROR: El output y el expected no miden lo mismo.' \n",
    "    else:\n",
    "        ans = True\n",
    "        for line in range(len(output)):\n",
    "            if not equalWithError(float(output[line]), float(output[line]), error):\n",
    "                ans = False\n",
    "        if ans:\n",
    "            return f'El output es igual al esperado con un error de {error}.'\n",
    "        else:\n",
    "            return f'El output no es igual al esperado.'"
   ]
  },
  {
   "cell_type": "markdown",
   "metadata": {},
   "source": [
    "### Usamos los tests que armamos para chequear las funciones y obtener el tiempo de cómputo"
   ]
  },
  {
   "cell_type": "code",
   "execution_count": 3,
   "metadata": {},
   "outputs": [],
   "source": [
    "testPATH = 'src/tests/'\n",
    "tests = ['test1', 'test2', 'test-prob-1', 'test-prob-2']\n",
    "\n",
    "error = 1e-4"
   ]
  },
  {
   "cell_type": "code",
   "execution_count": 4,
   "metadata": {},
   "outputs": [
    {
     "name": "stdout",
     "output_type": "stream",
     "text": [
      "test1: El output es igual al esperado con un error de 0.0001.\n",
      "test2: El output es igual al esperado con un error de 0.0001.\n",
      "test-prob-1: El output es igual al esperado con un error de 0.0001.\n",
      "test-prob-2: El output es igual al esperado con un error de 0.0001.\n"
     ]
    }
   ],
   "source": [
    "for i in range(len(tests)):\n",
    "    runMethod(testPATH + tests[i] + '.in', 0)\n",
    "\n",
    "for i in range(len(tests)):\n",
    "    print(tests[i] + ': ' + checkOutput(testPATH + tests[i] + '.out', testPATH + tests[i] + '.expected', error))"
   ]
  },
  {
   "cell_type": "code",
   "execution_count": 5,
   "metadata": {},
   "outputs": [
    {
     "name": "stderr",
     "output_type": "stream",
     "text": [
      "100%|██████████| 4/4 [00:01<00:00,  2.56it/s]"
     ]
    },
    {
     "name": "stdout",
     "output_type": "stream",
     "text": [
      "[(0.004026274681091308, 0.0009445525592622697), (0.0033882522583007814, 0.0003654302367999135), (0.003693828582763672, 0.0008468758662338097), (0.004343495368957519, 0.0018837772419103992)]\n"
     ]
    },
    {
     "name": "stderr",
     "output_type": "stream",
     "text": [
      "\n"
     ]
    }
   ],
   "source": [
    "times = []\n",
    "for i in tqdm(range(len(tests))):\n",
    "    times.append(getAvgTime(testPATH + tests[i] + '.in', 0))\n",
    "\n",
    "print(times)"
   ]
  },
  {
   "cell_type": "code",
   "execution_count": null,
   "metadata": {},
   "outputs": [],
   "source": []
  }
 ],
 "metadata": {
  "kernelspec": {
   "display_name": "Python 3",
   "language": "python",
   "name": "python3"
  },
  "language_info": {
   "codemirror_mode": {
    "name": "ipython",
    "version": 3
   },
   "file_extension": ".py",
   "mimetype": "text/x-python",
   "name": "python",
   "nbconvert_exporter": "python",
   "pygments_lexer": "ipython3",
   "version": "3.8.2"
  }
 },
 "nbformat": 4,
 "nbformat_minor": 4
}
