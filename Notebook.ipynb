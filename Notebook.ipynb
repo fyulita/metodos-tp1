{
 "cells": [
  {
   "cell_type": "markdown",
   "metadata": {},
   "source": [
    "# Tests cortitos"
   ]
  },
  {
   "cell_type": "markdown",
   "metadata": {},
   "source": [
    "### Importamos la librerías necesarias"
   ]
  },
  {
   "cell_type": "code",
   "execution_count": 5,
   "metadata": {},
   "outputs": [],
   "source": [
    "import subprocess\n",
    "from tqdm import tqdm"
   ]
  },
  {
   "cell_type": "markdown",
   "metadata": {},
   "source": [
    "### Definimos las funciones necesarias para correr las funciones de C++ y chequearlas"
   ]
  },
  {
   "cell_type": "code",
   "execution_count": 6,
   "metadata": {},
   "outputs": [],
   "source": [
    "# Corre alguna de las funciones de C++ (especificando el metodo segun el README.md),\n",
    "# guarda el archivo de salida en la misma carpeta y devuelve el tiempo de computo.\n",
    "def runMethod(filePATH, method, outputPATH):\n",
    "    process = subprocess.run(['./tp01', filePATH, outputPATH, str(method)])\n",
    "\n",
    "\n",
    "def equalWithError(a, b, e):\n",
    "    ans = True\n",
    "    if (a + e < b - e or a - e > b + e):\n",
    "        ans = False\n",
    "    return ans\n",
    "\n",
    "\n",
    "# Chequea que el output de un test sea igual que el esperado.\n",
    "def checkOutput(outputPATH, expectedPATH, error):\n",
    "    output = open(outputPATH, 'r').readlines()\n",
    "    expected = open(expectedPATH, 'r').readlines()\n",
    "    \n",
    "    if len(output) != len(expected):\n",
    "        return 'ERROR: El output y el expected no miden lo mismo.' \n",
    "    else:\n",
    "        ans = True\n",
    "        for line in range(len(output)):\n",
    "            if not equalWithError(float(output[line]), float(expected[line]), error):\n",
    "                ans = False\n",
    "        if ans:\n",
    "            return f'El output es igual al esperado con un error de {error}.'\n",
    "        else:\n",
    "            return f'El output no es igual al esperado.'\n",
    "    output.close()\n",
    "    expected.close()"
   ]
  },
  {
   "cell_type": "markdown",
   "metadata": {},
   "source": [
    "### Usamos los tests que armamos para chequear las funciones"
   ]
  },
  {
   "cell_type": "code",
   "execution_count": 7,
   "metadata": {},
   "outputs": [],
   "source": [
    "testWPPATH = 'src/TestsWP/'\n",
    "testCMMPATH = 'src/TestsCMM/'\n",
    "testCMMPATHCompletos = 'src/TestsCMM/test_completos/'\n",
    "\n",
    "tests = ['test1', 'test2', 'test-prob-1', 'test-prob-2']\n",
    "testsCompletos = ['test_completo_10_1', 'test_completo_100_8', 'test_completo_100_4', 'test_completo_1000_8','test_completo_1000_2']\n",
    "\n",
    "error = 1e-4"
   ]
  },
  {
   "cell_type": "code",
   "execution_count": 9,
   "metadata": {
    "scrolled": true
   },
   "outputs": [
    {
     "ename": "FileNotFoundError",
     "evalue": "[WinError 2] The system cannot find the file specified",
     "output_type": "error",
     "traceback": [
      "\u001b[1;31m---------------------------------------------------------------------------\u001b[0m",
      "\u001b[1;31mFileNotFoundError\u001b[0m                         Traceback (most recent call last)",
      "\u001b[1;32m<ipython-input-9-473100bcce21>\u001b[0m in \u001b[0;36m<module>\u001b[1;34m\u001b[0m\n\u001b[0;32m      1\u001b[0m \u001b[1;32mfor\u001b[0m \u001b[0mi\u001b[0m \u001b[1;32min\u001b[0m \u001b[0mrange\u001b[0m\u001b[1;33m(\u001b[0m\u001b[0mlen\u001b[0m\u001b[1;33m(\u001b[0m\u001b[0mtests\u001b[0m\u001b[1;33m)\u001b[0m\u001b[1;33m)\u001b[0m\u001b[1;33m:\u001b[0m\u001b[1;33m\u001b[0m\u001b[1;33m\u001b[0m\u001b[0m\n\u001b[1;32m----> 2\u001b[1;33m     \u001b[0mrunMethod\u001b[0m\u001b[1;33m(\u001b[0m\u001b[0mtestWPPATH\u001b[0m \u001b[1;33m+\u001b[0m \u001b[0mtests\u001b[0m\u001b[1;33m[\u001b[0m\u001b[0mi\u001b[0m\u001b[1;33m]\u001b[0m \u001b[1;33m+\u001b[0m \u001b[1;34m'.in'\u001b[0m\u001b[1;33m,\u001b[0m \u001b[1;36m1\u001b[0m\u001b[1;33m,\u001b[0m \u001b[0mtestWPPATH\u001b[0m \u001b[1;33m+\u001b[0m \u001b[0mtests\u001b[0m\u001b[1;33m[\u001b[0m\u001b[0mi\u001b[0m\u001b[1;33m]\u001b[0m \u001b[1;33m+\u001b[0m \u001b[1;34m'.out'\u001b[0m\u001b[1;33m)\u001b[0m\u001b[1;33m\u001b[0m\u001b[1;33m\u001b[0m\u001b[0m\n\u001b[0m\u001b[0;32m      3\u001b[0m     \u001b[0mrunMethod\u001b[0m\u001b[1;33m(\u001b[0m\u001b[0mtestCMMPATH\u001b[0m \u001b[1;33m+\u001b[0m \u001b[0mtests\u001b[0m\u001b[1;33m[\u001b[0m\u001b[0mi\u001b[0m\u001b[1;33m]\u001b[0m \u001b[1;33m+\u001b[0m \u001b[1;34m'.in'\u001b[0m\u001b[1;33m,\u001b[0m \u001b[1;36m0\u001b[0m\u001b[1;33m,\u001b[0m \u001b[0mtestCMMPATH\u001b[0m \u001b[1;33m+\u001b[0m \u001b[0mtests\u001b[0m\u001b[1;33m[\u001b[0m\u001b[0mi\u001b[0m\u001b[1;33m]\u001b[0m \u001b[1;33m+\u001b[0m \u001b[1;34m'.out'\u001b[0m\u001b[1;33m)\u001b[0m\u001b[1;33m\u001b[0m\u001b[1;33m\u001b[0m\u001b[0m\n\u001b[0;32m      4\u001b[0m     \u001b[0mrunMethod\u001b[0m\u001b[1;33m(\u001b[0m\u001b[0mtestCMMPATHCompletos\u001b[0m \u001b[1;33m+\u001b[0m \u001b[0mtests\u001b[0m\u001b[1;33m[\u001b[0m\u001b[0mi\u001b[0m\u001b[1;33m]\u001b[0m \u001b[1;33m+\u001b[0m \u001b[1;34m'.in'\u001b[0m\u001b[1;33m,\u001b[0m \u001b[1;36m0\u001b[0m\u001b[1;33m,\u001b[0m \u001b[0mtestCMMPATH\u001b[0m \u001b[1;33m+\u001b[0m \u001b[0mtests\u001b[0m\u001b[1;33m[\u001b[0m\u001b[0mi\u001b[0m\u001b[1;33m]\u001b[0m \u001b[1;33m+\u001b[0m \u001b[1;34m'.out'\u001b[0m\u001b[1;33m)\u001b[0m\u001b[1;33m\u001b[0m\u001b[1;33m\u001b[0m\u001b[0m\n\u001b[0;32m      5\u001b[0m \u001b[1;33m\u001b[0m\u001b[0m\n",
      "\u001b[1;32m<ipython-input-6-e2713654d26e>\u001b[0m in \u001b[0;36mrunMethod\u001b[1;34m(filePATH, method, outputPATH)\u001b[0m\n\u001b[0;32m      2\u001b[0m \u001b[1;31m# guarda el archivo de salida en la misma carpeta y devuelve el tiempo de computo.\u001b[0m\u001b[1;33m\u001b[0m\u001b[1;33m\u001b[0m\u001b[1;33m\u001b[0m\u001b[0m\n\u001b[0;32m      3\u001b[0m \u001b[1;32mdef\u001b[0m \u001b[0mrunMethod\u001b[0m\u001b[1;33m(\u001b[0m\u001b[0mfilePATH\u001b[0m\u001b[1;33m,\u001b[0m \u001b[0mmethod\u001b[0m\u001b[1;33m,\u001b[0m \u001b[0moutputPATH\u001b[0m\u001b[1;33m)\u001b[0m\u001b[1;33m:\u001b[0m\u001b[1;33m\u001b[0m\u001b[1;33m\u001b[0m\u001b[0m\n\u001b[1;32m----> 4\u001b[1;33m     \u001b[0mprocess\u001b[0m \u001b[1;33m=\u001b[0m \u001b[0msubprocess\u001b[0m\u001b[1;33m.\u001b[0m\u001b[0mrun\u001b[0m\u001b[1;33m(\u001b[0m\u001b[1;33m[\u001b[0m\u001b[1;34m'./tp01'\u001b[0m\u001b[1;33m,\u001b[0m \u001b[0mfilePATH\u001b[0m\u001b[1;33m,\u001b[0m \u001b[0moutputPATH\u001b[0m\u001b[1;33m,\u001b[0m \u001b[0mstr\u001b[0m\u001b[1;33m(\u001b[0m\u001b[0mmethod\u001b[0m\u001b[1;33m)\u001b[0m\u001b[1;33m]\u001b[0m\u001b[1;33m)\u001b[0m\u001b[1;33m\u001b[0m\u001b[1;33m\u001b[0m\u001b[0m\n\u001b[0m\u001b[0;32m      5\u001b[0m \u001b[1;33m\u001b[0m\u001b[0m\n\u001b[0;32m      6\u001b[0m \u001b[1;33m\u001b[0m\u001b[0m\n",
      "\u001b[1;32mC:\\ProgramData\\Anaconda3\\lib\\subprocess.py\u001b[0m in \u001b[0;36mrun\u001b[1;34m(input, capture_output, timeout, check, *popenargs, **kwargs)\u001b[0m\n\u001b[0;32m    486\u001b[0m         \u001b[0mkwargs\u001b[0m\u001b[1;33m[\u001b[0m\u001b[1;34m'stderr'\u001b[0m\u001b[1;33m]\u001b[0m \u001b[1;33m=\u001b[0m \u001b[0mPIPE\u001b[0m\u001b[1;33m\u001b[0m\u001b[1;33m\u001b[0m\u001b[0m\n\u001b[0;32m    487\u001b[0m \u001b[1;33m\u001b[0m\u001b[0m\n\u001b[1;32m--> 488\u001b[1;33m     \u001b[1;32mwith\u001b[0m \u001b[0mPopen\u001b[0m\u001b[1;33m(\u001b[0m\u001b[1;33m*\u001b[0m\u001b[0mpopenargs\u001b[0m\u001b[1;33m,\u001b[0m \u001b[1;33m**\u001b[0m\u001b[0mkwargs\u001b[0m\u001b[1;33m)\u001b[0m \u001b[1;32mas\u001b[0m \u001b[0mprocess\u001b[0m\u001b[1;33m:\u001b[0m\u001b[1;33m\u001b[0m\u001b[1;33m\u001b[0m\u001b[0m\n\u001b[0m\u001b[0;32m    489\u001b[0m         \u001b[1;32mtry\u001b[0m\u001b[1;33m:\u001b[0m\u001b[1;33m\u001b[0m\u001b[1;33m\u001b[0m\u001b[0m\n\u001b[0;32m    490\u001b[0m             \u001b[0mstdout\u001b[0m\u001b[1;33m,\u001b[0m \u001b[0mstderr\u001b[0m \u001b[1;33m=\u001b[0m \u001b[0mprocess\u001b[0m\u001b[1;33m.\u001b[0m\u001b[0mcommunicate\u001b[0m\u001b[1;33m(\u001b[0m\u001b[0minput\u001b[0m\u001b[1;33m,\u001b[0m \u001b[0mtimeout\u001b[0m\u001b[1;33m=\u001b[0m\u001b[0mtimeout\u001b[0m\u001b[1;33m)\u001b[0m\u001b[1;33m\u001b[0m\u001b[1;33m\u001b[0m\u001b[0m\n",
      "\u001b[1;32mC:\\ProgramData\\Anaconda3\\lib\\subprocess.py\u001b[0m in \u001b[0;36m__init__\u001b[1;34m(self, args, bufsize, executable, stdin, stdout, stderr, preexec_fn, close_fds, shell, cwd, env, universal_newlines, startupinfo, creationflags, restore_signals, start_new_session, pass_fds, encoding, errors, text)\u001b[0m\n\u001b[0;32m    798\u001b[0m                                 \u001b[0mc2pread\u001b[0m\u001b[1;33m,\u001b[0m \u001b[0mc2pwrite\u001b[0m\u001b[1;33m,\u001b[0m\u001b[1;33m\u001b[0m\u001b[1;33m\u001b[0m\u001b[0m\n\u001b[0;32m    799\u001b[0m                                 \u001b[0merrread\u001b[0m\u001b[1;33m,\u001b[0m \u001b[0merrwrite\u001b[0m\u001b[1;33m,\u001b[0m\u001b[1;33m\u001b[0m\u001b[1;33m\u001b[0m\u001b[0m\n\u001b[1;32m--> 800\u001b[1;33m                                 restore_signals, start_new_session)\n\u001b[0m\u001b[0;32m    801\u001b[0m         \u001b[1;32mexcept\u001b[0m\u001b[1;33m:\u001b[0m\u001b[1;33m\u001b[0m\u001b[1;33m\u001b[0m\u001b[0m\n\u001b[0;32m    802\u001b[0m             \u001b[1;31m# Cleanup if the child failed starting.\u001b[0m\u001b[1;33m\u001b[0m\u001b[1;33m\u001b[0m\u001b[1;33m\u001b[0m\u001b[0m\n",
      "\u001b[1;32mC:\\ProgramData\\Anaconda3\\lib\\subprocess.py\u001b[0m in \u001b[0;36m_execute_child\u001b[1;34m(self, args, executable, preexec_fn, close_fds, pass_fds, cwd, env, startupinfo, creationflags, shell, p2cread, p2cwrite, c2pread, c2pwrite, errread, errwrite, unused_restore_signals, unused_start_new_session)\u001b[0m\n\u001b[0;32m   1205\u001b[0m                                          \u001b[0menv\u001b[0m\u001b[1;33m,\u001b[0m\u001b[1;33m\u001b[0m\u001b[1;33m\u001b[0m\u001b[0m\n\u001b[0;32m   1206\u001b[0m                                          \u001b[0mos\u001b[0m\u001b[1;33m.\u001b[0m\u001b[0mfspath\u001b[0m\u001b[1;33m(\u001b[0m\u001b[0mcwd\u001b[0m\u001b[1;33m)\u001b[0m \u001b[1;32mif\u001b[0m \u001b[0mcwd\u001b[0m \u001b[1;32mis\u001b[0m \u001b[1;32mnot\u001b[0m \u001b[1;32mNone\u001b[0m \u001b[1;32melse\u001b[0m \u001b[1;32mNone\u001b[0m\u001b[1;33m,\u001b[0m\u001b[1;33m\u001b[0m\u001b[1;33m\u001b[0m\u001b[0m\n\u001b[1;32m-> 1207\u001b[1;33m                                          startupinfo)\n\u001b[0m\u001b[0;32m   1208\u001b[0m             \u001b[1;32mfinally\u001b[0m\u001b[1;33m:\u001b[0m\u001b[1;33m\u001b[0m\u001b[1;33m\u001b[0m\u001b[0m\n\u001b[0;32m   1209\u001b[0m                 \u001b[1;31m# Child is launched. Close the parent's copy of those pipe\u001b[0m\u001b[1;33m\u001b[0m\u001b[1;33m\u001b[0m\u001b[1;33m\u001b[0m\u001b[0m\n",
      "\u001b[1;31mFileNotFoundError\u001b[0m: [WinError 2] The system cannot find the file specified"
     ]
    }
   ],
   "source": [
    "for i in range(len(tests)):\n",
    "    runMethod(testWPPATH + tests[i] + '.in', 1, testWPPATH + tests[i] + '.out')\n",
    "    runMethod(testCMMPATH + tests[i] + '.in', 0, testCMMPATH + tests[i] + '.out')\n",
    "    runMethod(testCMMPATHCompletos + tests[i] + '.in', 0, testCMMPATH + tests[i] + '.out')\n",
    "\n",
    "\n",
    "print('-------- WP Tests --------')\n",
    "for i in range(len(tests)):\n",
    "    print(tests[i] + ': ' + checkOutput(testWPPATH + tests[i] + '.out', testWPPATH + tests[i] + '.expected', error))\n",
    "\n",
    "print('-------- CMM Tests --------')\n",
    "for i in range(len(tests)):\n",
    "    print(tests[i] + ': ' + checkOutput(testCMMPATH + tests[i] + '.out', testCMMPATH + tests[i] + '.expected', error))\n",
    "    \n",
    "print('-------- CMM Tests Completos  --------')\n",
    "for i in range(len(tests)):\n",
    "    print(tests[i] + ': ' + checkOutput(testCMMPATHCompletos + tests[i] + '.out', testCMMPATHCompletos + tests[i] + '.expected', error))\n",
    "    "
   ]
  },
  {
   "cell_type": "markdown",
   "metadata": {},
   "source": [
    "# Tests posta"
   ]
  },
  {
   "cell_type": "markdown",
   "metadata": {},
   "source": [
    "### Definimos los archivos con equipos de NBA (Basketball) y jugadores de ATP (Tennis)."
   ]
  },
  {
   "cell_type": "code",
   "execution_count": null,
   "metadata": {},
   "outputs": [],
   "source": [
    "import pandas as pd\n",
    "\n",
    "\n",
    "teamsNBA = pd.read_csv('data/nba_2016_teams.csv', names=['id', 'team'])\n",
    "scoresNBA = pd.read_csv('data/nba_2016_scores.csv', names=['???', 'date', 'team1', 'loca1', 'score1', 'team2', 'local2', 'score2'])"
   ]
  },
  {
   "cell_type": "markdown",
   "metadata": {},
   "source": [
    "## NBA"
   ]
  },
  {
   "cell_type": "markdown",
   "metadata": {},
   "source": [
    "### Usemos el csv que tenemos con los partidos de la NBA (*National Basketball Association*)."
   ]
  },
  {
   "cell_type": "code",
   "execution_count": null,
   "metadata": {},
   "outputs": [],
   "source": [
    "print('------ Equipos ------')\n",
    "print(teamsNBA)\n",
    "print('------ Partidos ------')\n",
    "print(scoresNBA)"
   ]
  },
  {
   "cell_type": "markdown",
   "metadata": {},
   "source": [
    "### Hagamos un archivo .in que tenga la info de los partidos."
   ]
  },
  {
   "cell_type": "code",
   "execution_count": null,
   "metadata": {},
   "outputs": [],
   "source": [
    "file = open('data/nba_2016_scores.in', 'w+')\n",
    "file.write(str(len(teamsNBA)) + ' ' + str(len(scoresNBA)) + '\\n')\n",
    "\n",
    "for i in range(len(scoresNBA)):\n",
    "    file.write(str(scoresNBA.loc[i, 'date']) + ' ' + str(scoresNBA.loc[i, 'team1']) + ' ' + \n",
    "               str(scoresNBA.loc[i, 'score1']) + ' ' + str(scoresNBA.loc[i, 'team2']) + ' ' + \n",
    "               str(scoresNBA.loc[i, 'score2']) + '\\n')\n",
    "file.close()"
   ]
  },
  {
   "cell_type": "markdown",
   "metadata": {},
   "source": [
    "### Ejecutemos las funciones WP y CMM para estos equipos."
   ]
  },
  {
   "cell_type": "code",
   "execution_count": null,
   "metadata": {},
   "outputs": [],
   "source": [
    "runMethod('data/nba_2016_scores.in', 0, 'data/nba_2016_scores_0.out')\n",
    "runMethod('data/nba_2016_scores.in', 1, 'data/nba_2016_scores_1.out')"
   ]
  },
  {
   "cell_type": "markdown",
   "metadata": {},
   "source": [
    "### Veamos el ranking según WP y CMM."
   ]
  },
  {
   "cell_type": "code",
   "execution_count": null,
   "metadata": {},
   "outputs": [],
   "source": [
    "fileCMM = open('data/nba_2016_scores_0.out', 'r').readlines()\n",
    "fileWP = open('data/nba_2016_scores_1.out', 'r').readlines()\n",
    "ratingCMM = []\n",
    "ratingWP = []\n",
    "for line in fileCMM:\n",
    "    ratingCMM.append(float(line))\n",
    "for line in fileWP:\n",
    "    ratingWP.append(float(line))\n",
    "\n",
    "teamsNBA.insert(2, 'ratingCMM', ratingCMM)\n",
    "teamsNBA.insert(3, 'ratingWP', ratingWP)\n",
    "print(teamsNBA)"
   ]
  },
  {
   "cell_type": "code",
   "execution_count": null,
   "metadata": {},
   "outputs": [],
   "source": [
    "print('------ Ranking CMM ------')\n",
    "\n",
    "teamsNBA_ordered = teamsNBA.sort_values(by=['ratingCMM', 'ratingWP'], ascending=(False, False))\n",
    "print(teamsNBA_ordered)\n",
    "\n",
    "print('------ Ranking WP ------')\n",
    "\n",
    "teamsNBA_ordered = teamsNBA.sort_values(by=['ratingWP', 'ratingCMM'], ascending=(False, False))\n",
    "print(teamsNBA_ordered)"
   ]
  },
  {
   "cell_type": "markdown",
   "metadata": {},
   "source": [
    "## EFL"
   ]
  },
  {
   "cell_type": "markdown",
   "metadata": {},
   "source": [
    "### Usemos el csv que tenemos con los partidos de la Premier League de la EFL (*English Football League*)"
   ]
  },
  {
   "cell_type": "code",
   "execution_count": null,
   "metadata": {},
   "outputs": [],
   "source": [
    "dataEFL = pd.read_csv('data/Liga_Inglesa.csv')\n",
    "print(dataEFL)"
   ]
  },
  {
   "cell_type": "markdown",
   "metadata": {},
   "source": [
    "### Asignémosle un id a cada equipo de la liga."
   ]
  },
  {
   "cell_type": "code",
   "execution_count": null,
   "metadata": {},
   "outputs": [],
   "source": [
    "team_to_id = {}\n",
    "id_to_team = {}\n",
    "i = 1\n",
    "for j in tqdm(range(len(dataEFL.loc[:, 'HomeTeam']))):\n",
    "    home = dataEFL.loc[j, 'HomeTeam']\n",
    "    away = dataEFL.loc[j, 'AwayTeam']\n",
    "    if not (home in team_to_id):\n",
    "        team_to_id.update({home: i})\n",
    "        id_to_team.update({i: home})\n",
    "        i += 1\n",
    "    if not (away in team_to_id):\n",
    "        team_to_id.update({away: i})\n",
    "        id_to_team.update({i: away})\n",
    "        i += 1\n",
    "\n",
    "\n",
    "print(team_to_id)\n",
    "print(id_to_team)"
   ]
  },
  {
   "cell_type": "markdown",
   "metadata": {},
   "source": [
    "### Ahora armemos el .in. Ya que en el fútbol pueden haber empates entonces pongamos al equipo visitante siempre a la derecha y al local a la izquierda. Por cómo está armado el algoritmo de CMM esto nos asegura que en caso de empate el ganador sea el equipo visitante, lo cual nos pareció una solución justa. "
   ]
  },
  {
   "cell_type": "code",
   "execution_count": null,
   "metadata": {},
   "outputs": [],
   "source": [
    "file = open('data/Liga_Inglesa.in', 'w+')\n",
    "file.write(str(len(team_to_id)) + ' ' + str(len(dataEFL)) + '\\n')\n",
    "\n",
    "for i in range(len(dataEFL)):\n",
    "    file.write(str(1) + ' ' + str(team_to_id[dataEFL.loc[i, 'HomeTeam']]) + ' ' + \n",
    "               str(dataEFL.loc[i, 'FTHG']) + ' ' + str(team_to_id[dataEFL.loc[i, 'AwayTeam']]) + ' ' + \n",
    "               str(dataEFL.loc[i, 'FTAG']) + '\\n')\n",
    "file.close()"
   ]
  },
  {
   "cell_type": "markdown",
   "metadata": {},
   "source": [
    "### Ejecutemos las funciones WP y CMM para estos equipos."
   ]
  },
  {
   "cell_type": "code",
   "execution_count": null,
   "metadata": {},
   "outputs": [],
   "source": [
    "runMethod('data/Liga_Inglesa.in', 0, 'data/Liga_Inglesa_0.out')\n",
    "runMethod('data/Liga_Inglesa.in', 1, 'data/Liga_Inglesa_1.out')"
   ]
  },
  {
   "cell_type": "markdown",
   "metadata": {},
   "source": [
    "### Armemos una tabla con los equipos de la liga."
   ]
  },
  {
   "cell_type": "code",
   "execution_count": null,
   "metadata": {},
   "outputs": [],
   "source": [
    "teamsEFL = pd.DataFrame(columns=['id', 'team'])\n",
    "teamsidList = []\n",
    "teamsNameList = []\n",
    "\n",
    "for teamid in tqdm(id_to_team):\n",
    "    teamsidList.append(teamid)\n",
    "    teamsNameList.append(id_to_team[teamid])\n",
    "    \n",
    "teamsEFL['id'] = teamsidList\n",
    "teamsEFL['team'] = teamsNameList\n",
    "print(teamsEFL)"
   ]
  },
  {
   "cell_type": "markdown",
   "metadata": {},
   "source": [
    "### Veamos el ranking según WP y CMM. También agreguemos el ranking \"semi-oficial\" que generamos con la función \"league\" en C++. Este ranking le asigna 3 puntos al equipo ganador y ninguno al perdedor al igual que en la liga oficial. A diferencia de la liga oficial, en caso de empate le asignamos 3 puntos al equipo visitante, por eso es \"semi-oficial\". Los resultados están guardados en \"data/Liga_Modificada.out\"."
   ]
  },
  {
   "cell_type": "code",
   "execution_count": null,
   "metadata": {},
   "outputs": [],
   "source": [
    "fileCMM = open('data/Liga_Inglesa_0.out', 'r').readlines()\n",
    "fileWP = open('data/Liga_Inglesa_1.out', 'r').readlines()\n",
    "fileSO = open('data/Liga_Modificada.out', 'r').readlines()\n",
    "ratingCMM = []\n",
    "ratingWP = []\n",
    "ratingSO = []\n",
    "for line in fileCMM:\n",
    "    ratingCMM.append(float(line))\n",
    "for line in fileWP:\n",
    "    ratingWP.append(float(line))\n",
    "for line in fileSO:\n",
    "    ratingSO.append(float(line))\n",
    "\n",
    "teamsEFL.insert(2, 'ratingCMM', ratingCMM)\n",
    "teamsEFL.insert(3, 'ratingWP', ratingWP)\n",
    "teamsEFL.insert(4, 'ratingSO', ratingSO)\n",
    "print(teamsEFL)"
   ]
  },
  {
   "cell_type": "code",
   "execution_count": null,
   "metadata": {},
   "outputs": [],
   "source": [
    "print('------ Ranking CMM ------')\n",
    "teamsEFL_ordered = teamsEFL.sort_values(by='ratingCMM', ascending=False)\n",
    "print(teamsEFL_ordered)\n",
    "\n",
    "print('------ Ranking WP ------')\n",
    "teamsEFL_ordered = teamsEFL.sort_values(by='ratingWP', ascending=False)\n",
    "print(teamsEFL_ordered)\n",
    "\n",
    "print('------ Ranking SO ------')\n",
    "teamsEFL_ordered = teamsEFL.sort_values(by='ratingSO', ascending=False)\n",
    "print(teamsEFL_ordered)"
   ]
  },
  {
   "cell_type": "code",
   "execution_count": null,
   "metadata": {},
   "outputs": [],
   "source": []
  }
 ],
 "metadata": {
  "kernelspec": {
   "display_name": "Python 3",
   "language": "python",
   "name": "python3"
  },
  "language_info": {
   "codemirror_mode": {
    "name": "ipython",
    "version": 3
   },
   "file_extension": ".py",
   "mimetype": "text/x-python",
   "name": "python",
   "nbconvert_exporter": "python",
   "pygments_lexer": "ipython3",
   "version": "3.7.6"
  }
 },
 "nbformat": 4,
 "nbformat_minor": 4
}
