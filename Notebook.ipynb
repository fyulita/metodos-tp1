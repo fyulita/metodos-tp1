{
 "cells": [
  {
   "cell_type": "markdown",
   "metadata": {},
   "source": [
    "# Tests cortitos"
   ]
  },
  {
   "cell_type": "markdown",
   "metadata": {},
   "source": [
    "### Importamos la librerías necesarias"
   ]
  },
  {
   "cell_type": "code",
   "execution_count": 1,
   "metadata": {},
   "outputs": [],
   "source": [
    "import subprocess\n",
    "from tqdm import tqdm"
   ]
  },
  {
   "cell_type": "markdown",
   "metadata": {},
   "source": [
    "### Definimos las funciones necesarias para correr las funciones de C++ y chequearlas"
   ]
  },
  {
   "cell_type": "code",
   "execution_count": 2,
   "metadata": {},
   "outputs": [],
   "source": [
    "# Corre alguna de las funciones de C++ (especificando el metodo segun el README.md),\n",
    "# guarda el archivo de salida en la misma carpeta y devuelve el tiempo de computo.\n",
    "def runMethod(filePATH, method, outputPATH):\n",
    "    process = subprocess.run(['./tp01', filePATH, outputPATH, str(method)])\n",
    "\n",
    "\n",
    "def equalWithError(a, b, e):\n",
    "    ans = True\n",
    "    if (a + e < b - e or a - e > b + e):\n",
    "        ans = False\n",
    "    return ans\n",
    "\n",
    "\n",
    "# Chequea que el output de un test sea igual que el esperado.\n",
    "def checkOutput(outputPATH, expectedPATH, error):\n",
    "    output = open(outputPATH, 'r').readlines()\n",
    "    expected = open(expectedPATH, 'r').readlines()\n",
    "    \n",
    "    if len(output) != len(expected):\n",
    "        return 'ERROR: El output y el expected no miden lo mismo.' \n",
    "    else:\n",
    "        ans = True\n",
    "        for line in range(len(output)):\n",
    "            if not equalWithError(float(output[line]), float(expected[line]), error):\n",
    "                ans = False\n",
    "        if ans:\n",
    "            return f'El output es igual al esperado con un error de {error}.'\n",
    "        else:\n",
    "            return f'El output no es igual al esperado.'\n",
    "    output.close()\n",
    "    expected.close()"
   ]
  },
  {
   "cell_type": "markdown",
   "metadata": {},
   "source": [
    "### Usamos los tests que armamos para chequear las funciones"
   ]
  },
  {
   "cell_type": "code",
   "execution_count": 3,
   "metadata": {},
   "outputs": [],
   "source": [
    "testWPPATH = 'src/TestsWP/'\n",
    "testCMMPATH = 'src/TestsCMM/'\n",
    "tests = ['test1', 'test2', 'test-prob-1', 'test-prob-2']\n",
    "\n",
    "error = 1e-4"
   ]
  },
  {
   "cell_type": "code",
   "execution_count": 4,
   "metadata": {
    "scrolled": true
   },
   "outputs": [
    {
     "name": "stdout",
     "output_type": "stream",
     "text": [
      "-------- WP Tests --------\n",
      "test1: El output es igual al esperado con un error de 0.0001.\n",
      "test2: El output es igual al esperado con un error de 0.0001.\n",
      "test-prob-1: El output es igual al esperado con un error de 0.0001.\n",
      "test-prob-2: El output es igual al esperado con un error de 0.0001.\n",
      "-------- CMM Tests --------\n",
      "test1: El output es igual al esperado con un error de 0.0001.\n",
      "test2: El output es igual al esperado con un error de 0.0001.\n",
      "test-prob-1: El output es igual al esperado con un error de 0.0001.\n",
      "test-prob-2: El output es igual al esperado con un error de 0.0001.\n"
     ]
    }
   ],
   "source": [
    "for i in range(len(tests)):\n",
    "    runMethod(testWPPATH + tests[i] + '.in', 1, testWPPATH + tests[i] + '.out')\n",
    "    runMethod(testCMMPATH + tests[i] + '.in', 0, testCMMPATH + tests[i] + '.out')\n",
    "\n",
    "print('-------- WP Tests --------')\n",
    "for i in range(len(tests)):\n",
    "    print(tests[i] + ': ' + checkOutput(testWPPATH + tests[i] + '.out', testWPPATH + tests[i] + '.expected', error))\n",
    "\n",
    "print('-------- CMM Tests --------')\n",
    "for i in range(len(tests)):\n",
    "    print(tests[i] + ': ' + checkOutput(testCMMPATH + tests[i] + '.out', testCMMPATH + tests[i] + '.expected', error))"
   ]
  },
  {
   "cell_type": "markdown",
   "metadata": {},
   "source": [
    "# Tests posta"
   ]
  },
  {
   "cell_type": "markdown",
   "metadata": {},
   "source": [
    "### Definimos los archivos con equipos de NBA (Basketball) y jugadores de ATP (Tennis)."
   ]
  },
  {
   "cell_type": "code",
   "execution_count": 5,
   "metadata": {},
   "outputs": [],
   "source": [
    "import pandas as pd\n",
    "\n",
    "\n",
    "teamsNBA = pd.read_csv('data/nba_2016_teams.csv', names=['id', 'team'])\n",
    "scoresNBA = pd.read_csv('data/nba_2016_scores.csv', names=['???', 'date', 'team1', 'loca1', 'score1', 'team2', 'local2', 'score2'])"
   ]
  },
  {
   "cell_type": "markdown",
   "metadata": {},
   "source": [
    "## NBA"
   ]
  },
  {
   "cell_type": "markdown",
   "metadata": {},
   "source": [
    "### Usemos el csv que tenemos con los partidos de la NBA (*National Basketball Association*)."
   ]
  },
  {
   "cell_type": "code",
   "execution_count": 6,
   "metadata": {},
   "outputs": [
    {
     "name": "stdout",
     "output_type": "stream",
     "text": [
      "------ Equipos ------\n",
      "    id            team\n",
      "0    1         Atlanta\n",
      "1    2          Boston\n",
      "2    3        Brooklyn\n",
      "3    4       Charlotte\n",
      "4    5         Chicago\n",
      "5    6       Cleveland\n",
      "6    7          Dallas\n",
      "7    8          Denver\n",
      "8    9         Detroit\n",
      "9   10    Golden_State\n",
      "10  11         Houston\n",
      "11  12         Indiana\n",
      "12  13     LA_Clippers\n",
      "13  14       LA_Lakers\n",
      "14  15         Memphis\n",
      "15  16           Miami\n",
      "16  17       Milwaukee\n",
      "17  18       Minnesota\n",
      "18  19     New_Orleans\n",
      "19  20        New_York\n",
      "20  21   Oklahoma_City\n",
      "21  22         Orlando\n",
      "22  23    Philadelphia\n",
      "23  24         Phoenix\n",
      "24  25        Portland\n",
      "25  26      Sacramento\n",
      "26  27     San_Antonio\n",
      "27  28         Toronto\n",
      "28  29            Utah\n",
      "29  30      Washington\n",
      "------ Partidos ------\n",
      "         ???      date  team1  loca1  score1  team2  local2  score2\n",
      "0     736263  20151027      9     -1     106      1       1      94\n",
      "1     736263  20151027      5      1      97      6      -1      95\n",
      "2     736263  20151027     10      1     111     19      -1      95\n",
      "3     736264  20151028     30     -1      88     22       1      87\n",
      "4     736264  20151028      2      1     112     23      -1      95\n",
      "...      ...       ...    ...    ...     ...    ...     ...     ...\n",
      "997   736403  20160315     22      1     116      8      -1     110\n",
      "998   736403  20160315      3      1     131     23      -1     114\n",
      "999   736403  20160315     28     -1     107     17       1      89\n",
      "1000  736403  20160315     27      1     108     13      -1      87\n",
      "1001  736403  20160315     26     -1     106     14       1      98\n",
      "\n",
      "[1002 rows x 8 columns]\n"
     ]
    }
   ],
   "source": [
    "print('------ Equipos ------')\n",
    "print(teamsNBA)\n",
    "print('------ Partidos ------')\n",
    "print(scoresNBA)"
   ]
  },
  {
   "cell_type": "markdown",
   "metadata": {},
   "source": [
    "### Hagamos un archivo .in que tenga la info de los partidos."
   ]
  },
  {
   "cell_type": "code",
   "execution_count": 7,
   "metadata": {},
   "outputs": [],
   "source": [
    "file = open('data/nba_2016_scores.in', 'w+')\n",
    "file.write(str(len(teamsNBA)) + ' ' + str(len(scoresNBA)) + '\\n')\n",
    "\n",
    "for i in range(len(scoresNBA)):\n",
    "    file.write(str(scoresNBA.loc[i, 'date']) + ' ' + str(scoresNBA.loc[i, 'team1']) + ' ' + \n",
    "               str(scoresNBA.loc[i, 'score1']) + ' ' + str(scoresNBA.loc[i, 'team2']) + ' ' + \n",
    "               str(scoresNBA.loc[i, 'score2']) + '\\n')\n",
    "file.close()"
   ]
  },
  {
   "cell_type": "markdown",
   "metadata": {},
   "source": [
    "### Ejecutemos las funciones WP y CMM para estos equipos."
   ]
  },
  {
   "cell_type": "code",
   "execution_count": 8,
   "metadata": {},
   "outputs": [],
   "source": [
    "runMethod('data/nba_2016_scores.in', 0, 'data/nba_2016_scores_0.out')\n",
    "runMethod('data/nba_2016_scores.in', 1, 'data/nba_2016_scores_1.out')"
   ]
  },
  {
   "cell_type": "markdown",
   "metadata": {},
   "source": [
    "### Veamos el ranking según WP y CMM."
   ]
  },
  {
   "cell_type": "code",
   "execution_count": 9,
   "metadata": {},
   "outputs": [
    {
     "name": "stdout",
     "output_type": "stream",
     "text": [
      "    id            team  ratingCMM  ratingWP\n",
      "0    1         Atlanta   0.558822  0.567164\n",
      "1    2          Boston   0.565690  0.582090\n",
      "2    3        Brooklyn   0.290736  0.283582\n",
      "3    4       Charlotte   0.558224  0.560606\n",
      "4    5         Chicago   0.516007  0.507692\n",
      "5    6       Cleveland   0.692428  0.712121\n",
      "6    7          Dallas   0.502178  0.507463\n",
      "7    8          Denver   0.420858  0.411765\n",
      "8    9         Detroit   0.500250  0.507463\n",
      "9   10    Golden_State   0.874063  0.909091\n",
      "10  11         Houston   0.511327  0.507463\n",
      "11  12         Indiana   0.547962  0.537313\n",
      "12  13     LA_Clippers   0.629708  0.636364\n",
      "13  14       LA_Lakers   0.236722  0.205882\n",
      "14  15         Memphis   0.563176  0.582090\n",
      "15  16           Miami   0.577367  0.582090\n",
      "16  17       Milwaukee   0.435025  0.426471\n",
      "17  18       Minnesota   0.319984  0.313433\n",
      "18  19     New_Orleans   0.384521  0.363636\n",
      "19  20        New_York   0.414393  0.411765\n",
      "20  21   Oklahoma_City   0.655552  0.671642\n",
      "21  22         Orlando   0.432244  0.439394\n",
      "22  23    Philadelphia   0.150813  0.134328\n",
      "23  24         Phoenix   0.298952  0.268657\n",
      "24  25        Portland   0.515941  0.514706\n",
      "25  26      Sacramento   0.412817  0.393939\n",
      "26  27     San_Antonio   0.803976  0.850746\n",
      "27  28         Toronto   0.659347  0.681818\n",
      "28  29            Utah   0.487206  0.477612\n",
      "29  30      Washington   0.483709  0.469697\n"
     ]
    }
   ],
   "source": [
    "fileCMM = open('data/nba_2016_scores_0.out', 'r').readlines()\n",
    "fileWP = open('data/nba_2016_scores_1.out', 'r').readlines()\n",
    "ratingCMM = []\n",
    "ratingWP = []\n",
    "for line in fileCMM:\n",
    "    ratingCMM.append(float(line))\n",
    "for line in fileWP:\n",
    "    ratingWP.append(float(line))\n",
    "\n",
    "teamsNBA.insert(2, 'ratingCMM', ratingCMM)\n",
    "teamsNBA.insert(3, 'ratingWP', ratingWP)\n",
    "print(teamsNBA)"
   ]
  },
  {
   "cell_type": "code",
   "execution_count": 10,
   "metadata": {},
   "outputs": [
    {
     "name": "stdout",
     "output_type": "stream",
     "text": [
      "------ Ranking CMM ------\n",
      "    id            team  ratingCMM  ratingWP\n",
      "9   10    Golden_State   0.874063  0.909091\n",
      "26  27     San_Antonio   0.803976  0.850746\n",
      "5    6       Cleveland   0.692428  0.712121\n",
      "27  28         Toronto   0.659347  0.681818\n",
      "20  21   Oklahoma_City   0.655552  0.671642\n",
      "12  13     LA_Clippers   0.629708  0.636364\n",
      "15  16           Miami   0.577367  0.582090\n",
      "1    2          Boston   0.565690  0.582090\n",
      "14  15         Memphis   0.563176  0.582090\n",
      "0    1         Atlanta   0.558822  0.567164\n",
      "3    4       Charlotte   0.558224  0.560606\n",
      "11  12         Indiana   0.547962  0.537313\n",
      "4    5         Chicago   0.516007  0.507692\n",
      "24  25        Portland   0.515941  0.514706\n",
      "10  11         Houston   0.511327  0.507463\n",
      "6    7          Dallas   0.502178  0.507463\n",
      "8    9         Detroit   0.500250  0.507463\n",
      "28  29            Utah   0.487206  0.477612\n",
      "29  30      Washington   0.483709  0.469697\n",
      "16  17       Milwaukee   0.435025  0.426471\n",
      "21  22         Orlando   0.432244  0.439394\n",
      "7    8          Denver   0.420858  0.411765\n",
      "19  20        New_York   0.414393  0.411765\n",
      "25  26      Sacramento   0.412817  0.393939\n",
      "18  19     New_Orleans   0.384521  0.363636\n",
      "17  18       Minnesota   0.319984  0.313433\n",
      "23  24         Phoenix   0.298952  0.268657\n",
      "2    3        Brooklyn   0.290736  0.283582\n",
      "13  14       LA_Lakers   0.236722  0.205882\n",
      "22  23    Philadelphia   0.150813  0.134328\n",
      "------ Ranking WP ------\n",
      "    id            team  ratingCMM  ratingWP\n",
      "9   10    Golden_State   0.874063  0.909091\n",
      "26  27     San_Antonio   0.803976  0.850746\n",
      "5    6       Cleveland   0.692428  0.712121\n",
      "27  28         Toronto   0.659347  0.681818\n",
      "20  21   Oklahoma_City   0.655552  0.671642\n",
      "12  13     LA_Clippers   0.629708  0.636364\n",
      "15  16           Miami   0.577367  0.582090\n",
      "1    2          Boston   0.565690  0.582090\n",
      "14  15         Memphis   0.563176  0.582090\n",
      "0    1         Atlanta   0.558822  0.567164\n",
      "3    4       Charlotte   0.558224  0.560606\n",
      "11  12         Indiana   0.547962  0.537313\n",
      "24  25        Portland   0.515941  0.514706\n",
      "4    5         Chicago   0.516007  0.507692\n",
      "10  11         Houston   0.511327  0.507463\n",
      "6    7          Dallas   0.502178  0.507463\n",
      "8    9         Detroit   0.500250  0.507463\n",
      "28  29            Utah   0.487206  0.477612\n",
      "29  30      Washington   0.483709  0.469697\n",
      "21  22         Orlando   0.432244  0.439394\n",
      "16  17       Milwaukee   0.435025  0.426471\n",
      "7    8          Denver   0.420858  0.411765\n",
      "19  20        New_York   0.414393  0.411765\n",
      "25  26      Sacramento   0.412817  0.393939\n",
      "18  19     New_Orleans   0.384521  0.363636\n",
      "17  18       Minnesota   0.319984  0.313433\n",
      "2    3        Brooklyn   0.290736  0.283582\n",
      "23  24         Phoenix   0.298952  0.268657\n",
      "13  14       LA_Lakers   0.236722  0.205882\n",
      "22  23    Philadelphia   0.150813  0.134328\n"
     ]
    }
   ],
   "source": [
    "print('------ Ranking CMM ------')\n",
    "\n",
    "teamsNBA_ordered = teamsNBA.sort_values(by=['ratingCMM', 'ratingWP'], ascending=(False, False))\n",
    "print(teamsNBA_ordered)\n",
    "\n",
    "print('------ Ranking WP ------')\n",
    "\n",
    "teamsNBA_ordered = teamsNBA.sort_values(by=['ratingWP', 'ratingCMM'], ascending=(False, False))\n",
    "print(teamsNBA_ordered)"
   ]
  },
  {
   "cell_type": "markdown",
   "metadata": {},
   "source": [
    "## EFL"
   ]
  },
  {
   "cell_type": "markdown",
   "metadata": {},
   "source": [
    "### Usemos el csv que tenemos con los partidos de la Premier League de la EFL (*English Football League*)"
   ]
  },
  {
   "cell_type": "code",
   "execution_count": 19,
   "metadata": {},
   "outputs": [
    {
     "name": "stdout",
     "output_type": "stream",
     "text": [
      "    Div        Date      HomeTeam        AwayTeam  FTHG  FTAG FTR  HTHG  HTAG  \\\n",
      "0    E0  10/08/2018    Man United       Leicester     2     1   H     1     0   \n",
      "1    E0  11/08/2018   Bournemouth         Cardiff     2     0   H     1     0   \n",
      "2    E0  11/08/2018        Fulham  Crystal Palace     0     2   A     0     1   \n",
      "3    E0  11/08/2018  Huddersfield         Chelsea     0     3   A     0     2   \n",
      "4    E0  11/08/2018     Newcastle       Tottenham     1     2   A     1     2   \n",
      "..   ..         ...           ...             ...   ...   ...  ..   ...   ...   \n",
      "375  E0  12/05/2019     Liverpool          Wolves     2     0   H     1     0   \n",
      "376  E0  12/05/2019    Man United         Cardiff     0     2   A     0     1   \n",
      "377  E0  12/05/2019   Southampton    Huddersfield     1     1   D     1     0   \n",
      "378  E0  12/05/2019     Tottenham         Everton     2     2   D     1     0   \n",
      "379  E0  12/05/2019       Watford        West Ham     1     4   A     0     2   \n",
      "\n",
      "    HTR  ... BbAv<2.5  BbAH  BbAHh  BbMxAHH  BbAvAHH  BbMxAHA  BbAvAHA  PSCH  \\\n",
      "0     H  ...     1.79    17  -0.75     1.75     1.70     2.29     2.21  1.55   \n",
      "1     H  ...     1.83    20  -0.75     2.20     2.13     1.80     1.75  1.88   \n",
      "2     A  ...     1.87    22  -0.25     2.18     2.11     1.81     1.77  2.62   \n",
      "3     A  ...     1.84    23   1.00     1.84     1.80     2.13     2.06  7.24   \n",
      "4     A  ...     1.81    20   0.25     2.20     2.12     1.80     1.76  4.74   \n",
      "..   ..  ...      ...   ...    ...      ...      ...      ...      ...   ...   \n",
      "375   H  ...     2.31    22  -1.50     1.98     1.91     2.01     1.95  1.32   \n",
      "376   A  ...     2.95    21  -2.00     2.52     2.32     1.72     1.64  1.30   \n",
      "377   H  ...     2.29    22  -1.50     2.27     2.16     1.80     1.73  1.37   \n",
      "378   H  ...     2.07    19  -0.50     2.13     2.08     1.85     1.80  1.91   \n",
      "379   A  ...     2.44    19  -0.50     2.25     2.19     1.78     1.72  2.11   \n",
      "\n",
      "     PSCD  PSCA  \n",
      "0    4.07  7.69  \n",
      "1    3.61  4.70  \n",
      "2    3.38  2.90  \n",
      "3    3.95  1.58  \n",
      "4    3.53  1.89  \n",
      "..    ...   ...  \n",
      "375  5.89  9.48  \n",
      "376  6.06  9.71  \n",
      "377  5.36  8.49  \n",
      "378  3.81  4.15  \n",
      "379  3.86  3.41  \n",
      "\n",
      "[380 rows x 62 columns]\n"
     ]
    }
   ],
   "source": [
    "dataEFL = pd.read_csv('data/Liga_Inglesa.csv')\n",
    "print(dataEFL)"
   ]
  },
  {
   "cell_type": "markdown",
   "metadata": {},
   "source": [
    "### Asignémosle un id a cada equipo de la liga."
   ]
  },
  {
   "cell_type": "code",
   "execution_count": 20,
   "metadata": {},
   "outputs": [
    {
     "name": "stderr",
     "output_type": "stream",
     "text": [
      "100%|██████████| 380/380 [00:00<00:00, 59349.67it/s]"
     ]
    },
    {
     "name": "stdout",
     "output_type": "stream",
     "text": [
      "{'Man United': 1, 'Leicester': 2, 'Bournemouth': 3, 'Cardiff': 4, 'Fulham': 5, 'Crystal Palace': 6, 'Huddersfield': 7, 'Chelsea': 8, 'Newcastle': 9, 'Tottenham': 10, 'Watford': 11, 'Brighton': 12, 'Wolves': 13, 'Everton': 14, 'Arsenal': 15, 'Man City': 16, 'Liverpool': 17, 'West Ham': 18, 'Southampton': 19, 'Burnley': 20}\n",
      "{1: 'Man United', 2: 'Leicester', 3: 'Bournemouth', 4: 'Cardiff', 5: 'Fulham', 6: 'Crystal Palace', 7: 'Huddersfield', 8: 'Chelsea', 9: 'Newcastle', 10: 'Tottenham', 11: 'Watford', 12: 'Brighton', 13: 'Wolves', 14: 'Everton', 15: 'Arsenal', 16: 'Man City', 17: 'Liverpool', 18: 'West Ham', 19: 'Southampton', 20: 'Burnley'}\n"
     ]
    },
    {
     "name": "stderr",
     "output_type": "stream",
     "text": [
      "\n"
     ]
    }
   ],
   "source": [
    "team_to_id = {}\n",
    "id_to_team = {}\n",
    "i = 1\n",
    "for j in tqdm(range(len(dataEFL.loc[:, 'HomeTeam']))):\n",
    "    home = dataEFL.loc[j, 'HomeTeam']\n",
    "    away = dataEFL.loc[j, 'AwayTeam']\n",
    "    if not (home in team_to_id):\n",
    "        team_to_id.update({home: i})\n",
    "        id_to_team.update({i: home})\n",
    "        i += 1\n",
    "    if not (away in team_to_id):\n",
    "        team_to_id.update({away: i})\n",
    "        id_to_team.update({i: away})\n",
    "        i += 1\n",
    "\n",
    "\n",
    "print(team_to_id)\n",
    "print(id_to_team)"
   ]
  },
  {
   "cell_type": "markdown",
   "metadata": {},
   "source": [
    "### Ahora armemos el .in. Ya que en el fútbol pueden haber empates entonces pongamos al equipo visitante siempre a la derecha y al local a la izquierda. Por cómo está armado el algoritmo de CMM esto nos asegura que en caso de empate el ganador sea el equipo visitante, lo cual nos pareció una solución justa. "
   ]
  },
  {
   "cell_type": "code",
   "execution_count": 21,
   "metadata": {},
   "outputs": [],
   "source": [
    "file = open('data/Liga_Inglesa.in', 'w+')\n",
    "file.write(str(len(team_to_id)) + ' ' + str(len(dataEFL)) + '\\n')\n",
    "\n",
    "for i in range(len(dataEFL)):\n",
    "    file.write(str(1) + ' ' + str(team_to_id[dataEFL.loc[i, 'HomeTeam']]) + ' ' + \n",
    "               str(dataEFL.loc[i, 'FTHG']) + ' ' + str(team_to_id[dataEFL.loc[i, 'AwayTeam']]) + ' ' + \n",
    "               str(dataEFL.loc[i, 'FTAG']) + '\\n')\n",
    "file.close()"
   ]
  },
  {
   "cell_type": "markdown",
   "metadata": {},
   "source": [
    "### Ejecutemos las funciones WP y CMM para estos equipos."
   ]
  },
  {
   "cell_type": "code",
   "execution_count": 22,
   "metadata": {},
   "outputs": [],
   "source": [
    "runMethod('data/Liga_Inglesa.in', 0, 'data/Liga_Inglesa_0.out')\n",
    "runMethod('data/Liga_Inglesa.in', 1, 'data/Liga_Inglesa_1.out')"
   ]
  },
  {
   "cell_type": "markdown",
   "metadata": {},
   "source": [
    "### Armemos una tabla con los equipos de la liga."
   ]
  },
  {
   "cell_type": "code",
   "execution_count": 23,
   "metadata": {},
   "outputs": [
    {
     "name": "stderr",
     "output_type": "stream",
     "text": [
      "100%|██████████| 20/20 [00:00<00:00, 84819.09it/s]"
     ]
    },
    {
     "name": "stdout",
     "output_type": "stream",
     "text": [
      "    id            team\n",
      "0    1      Man United\n",
      "1    2       Leicester\n",
      "2    3     Bournemouth\n",
      "3    4         Cardiff\n",
      "4    5          Fulham\n",
      "5    6  Crystal Palace\n",
      "6    7    Huddersfield\n",
      "7    8         Chelsea\n",
      "8    9       Newcastle\n",
      "9   10       Tottenham\n",
      "10  11         Watford\n",
      "11  12        Brighton\n",
      "12  13          Wolves\n",
      "13  14         Everton\n",
      "14  15         Arsenal\n",
      "15  16        Man City\n",
      "16  17       Liverpool\n",
      "17  18        West Ham\n",
      "18  19     Southampton\n",
      "19  20         Burnley\n"
     ]
    },
    {
     "name": "stderr",
     "output_type": "stream",
     "text": [
      "\n"
     ]
    }
   ],
   "source": [
    "teamsEFL = pd.DataFrame(columns=['id', 'team'])\n",
    "teamsidList = []\n",
    "teamsNameList = []\n",
    "\n",
    "for teamid in tqdm(id_to_team):\n",
    "    teamsidList.append(teamid)\n",
    "    teamsNameList.append(id_to_team[teamid])\n",
    "    \n",
    "teamsEFL['id'] = teamsidList\n",
    "teamsEFL['team'] = teamsNameList\n",
    "print(teamsEFL)"
   ]
  },
  {
   "cell_type": "markdown",
   "metadata": {},
   "source": [
    "### Veamos el ranking según WP y CMM. También agreguemos el ranking \"semi-oficial\" que generamos con la función \"league\" en C++. Este ranking le asigna 3 puntos al equipo ganador y ninguno al perdedor al igual que en la liga oficial. A diferencia de la liga oficial, en caso de empate le asignamos 3 puntos al equipo visitante, por eso es \"semi-oficial\". Los resultados están guardados en \"data/Liga_Modificada.out\"."
   ]
  },
  {
   "cell_type": "code",
   "execution_count": 24,
   "metadata": {},
   "outputs": [
    {
     "name": "stdout",
     "output_type": "stream",
     "text": [
      "    id            team  ratingCMM  ratingWP  ratingSO\n",
      "0    1      Man United   0.571429  0.578947      66.0\n",
      "1    2       Leicester   0.500000  0.500000      57.0\n",
      "2    3     Bournemouth   0.380952  0.368421      42.0\n",
      "3    4         Cardiff   0.333333  0.315789      36.0\n",
      "4    5          Fulham   0.261905  0.236842      27.0\n",
      "5    6  Crystal Palace   0.428571  0.421053      48.0\n",
      "6    7    Huddersfield   0.214286  0.184211      21.0\n",
      "7    8         Chelsea   0.619048  0.631579      72.0\n",
      "8    9       Newcastle   0.523810  0.526316      60.0\n",
      "9   10       Tottenham   0.595238  0.605263      69.0\n",
      "10  11         Watford   0.500000  0.500000      57.0\n",
      "11  12        Brighton   0.357143  0.342105      39.0\n",
      "12  13          Wolves   0.547619  0.552632      63.0\n",
      "13  14         Everton   0.523810  0.526316      60.0\n",
      "14  15         Arsenal   0.642857  0.657895      75.0\n",
      "15  16        Man City   0.857143  0.894737     102.0\n",
      "16  17       Liverpool   0.880952  0.921053     105.0\n",
      "17  18        West Ham   0.476190  0.473684      54.0\n",
      "18  19     Southampton   0.357143  0.342105      39.0\n",
      "19  20         Burnley   0.428571  0.421053      48.0\n"
     ]
    }
   ],
   "source": [
    "fileCMM = open('data/Liga_Inglesa_0.out', 'r').readlines()\n",
    "fileWP = open('data/Liga_Inglesa_1.out', 'r').readlines()\n",
    "fileSO = open('data/Liga_Modificada.out', 'r').readlines()\n",
    "ratingCMM = []\n",
    "ratingWP = []\n",
    "ratingSO = []\n",
    "for line in fileCMM:\n",
    "    ratingCMM.append(float(line))\n",
    "for line in fileWP:\n",
    "    ratingWP.append(float(line))\n",
    "for line in fileSO:\n",
    "    ratingSO.append(float(line))\n",
    "\n",
    "teamsEFL.insert(2, 'ratingCMM', ratingCMM)\n",
    "teamsEFL.insert(3, 'ratingWP', ratingWP)\n",
    "teamsEFL.insert(4, 'ratingSO', ratingSO)\n",
    "print(teamsEFL)"
   ]
  },
  {
   "cell_type": "code",
   "execution_count": 27,
   "metadata": {},
   "outputs": [
    {
     "name": "stdout",
     "output_type": "stream",
     "text": [
      "------ Ranking CMM ------\n",
      "    id            team  ratingCMM  ratingWP  ratingSO\n",
      "16  17       Liverpool   0.880952  0.921053     105.0\n",
      "15  16        Man City   0.857143  0.894737     102.0\n",
      "14  15         Arsenal   0.642857  0.657895      75.0\n",
      "7    8         Chelsea   0.619048  0.631579      72.0\n",
      "9   10       Tottenham   0.595238  0.605263      69.0\n",
      "0    1      Man United   0.571429  0.578947      66.0\n",
      "12  13          Wolves   0.547619  0.552632      63.0\n",
      "13  14         Everton   0.523810  0.526316      60.0\n",
      "8    9       Newcastle   0.523810  0.526316      60.0\n",
      "1    2       Leicester   0.500000  0.500000      57.0\n",
      "10  11         Watford   0.500000  0.500000      57.0\n",
      "17  18        West Ham   0.476190  0.473684      54.0\n",
      "5    6  Crystal Palace   0.428571  0.421053      48.0\n",
      "19  20         Burnley   0.428571  0.421053      48.0\n",
      "2    3     Bournemouth   0.380952  0.368421      42.0\n",
      "11  12        Brighton   0.357143  0.342105      39.0\n",
      "18  19     Southampton   0.357143  0.342105      39.0\n",
      "3    4         Cardiff   0.333333  0.315789      36.0\n",
      "4    5          Fulham   0.261905  0.236842      27.0\n",
      "6    7    Huddersfield   0.214286  0.184211      21.0\n",
      "------ Ranking WP ------\n",
      "    id            team  ratingCMM  ratingWP  ratingSO\n",
      "16  17       Liverpool   0.880952  0.921053     105.0\n",
      "15  16        Man City   0.857143  0.894737     102.0\n",
      "14  15         Arsenal   0.642857  0.657895      75.0\n",
      "7    8         Chelsea   0.619048  0.631579      72.0\n",
      "9   10       Tottenham   0.595238  0.605263      69.0\n",
      "0    1      Man United   0.571429  0.578947      66.0\n",
      "12  13          Wolves   0.547619  0.552632      63.0\n",
      "13  14         Everton   0.523810  0.526316      60.0\n",
      "8    9       Newcastle   0.523810  0.526316      60.0\n",
      "1    2       Leicester   0.500000  0.500000      57.0\n",
      "10  11         Watford   0.500000  0.500000      57.0\n",
      "17  18        West Ham   0.476190  0.473684      54.0\n",
      "5    6  Crystal Palace   0.428571  0.421053      48.0\n",
      "19  20         Burnley   0.428571  0.421053      48.0\n",
      "2    3     Bournemouth   0.380952  0.368421      42.0\n",
      "11  12        Brighton   0.357143  0.342105      39.0\n",
      "18  19     Southampton   0.357143  0.342105      39.0\n",
      "3    4         Cardiff   0.333333  0.315789      36.0\n",
      "4    5          Fulham   0.261905  0.236842      27.0\n",
      "6    7    Huddersfield   0.214286  0.184211      21.0\n",
      "------ Ranking SO ------\n",
      "    id            team  ratingCMM  ratingWP  ratingSO\n",
      "16  17       Liverpool   0.880952  0.921053     105.0\n",
      "15  16        Man City   0.857143  0.894737     102.0\n",
      "14  15         Arsenal   0.642857  0.657895      75.0\n",
      "7    8         Chelsea   0.619048  0.631579      72.0\n",
      "9   10       Tottenham   0.595238  0.605263      69.0\n",
      "0    1      Man United   0.571429  0.578947      66.0\n",
      "12  13          Wolves   0.547619  0.552632      63.0\n",
      "13  14         Everton   0.523810  0.526316      60.0\n",
      "8    9       Newcastle   0.523810  0.526316      60.0\n",
      "1    2       Leicester   0.500000  0.500000      57.0\n",
      "10  11         Watford   0.500000  0.500000      57.0\n",
      "17  18        West Ham   0.476190  0.473684      54.0\n",
      "5    6  Crystal Palace   0.428571  0.421053      48.0\n",
      "19  20         Burnley   0.428571  0.421053      48.0\n",
      "2    3     Bournemouth   0.380952  0.368421      42.0\n",
      "11  12        Brighton   0.357143  0.342105      39.0\n",
      "18  19     Southampton   0.357143  0.342105      39.0\n",
      "3    4         Cardiff   0.333333  0.315789      36.0\n",
      "4    5          Fulham   0.261905  0.236842      27.0\n",
      "6    7    Huddersfield   0.214286  0.184211      21.0\n"
     ]
    }
   ],
   "source": [
    "print('------ Ranking CMM ------')\n",
    "teamsEFL_ordered = teamsEFL.sort_values(by='ratingCMM', ascending=False)\n",
    "print(teamsEFL_ordered)\n",
    "\n",
    "print('------ Ranking WP ------')\n",
    "teamsEFL_ordered = teamsEFL.sort_values(by='ratingWP', ascending=False)\n",
    "print(teamsEFL_ordered)\n",
    "\n",
    "print('------ Ranking SO ------')\n",
    "teamsEFL_ordered = teamsEFL.sort_values(by='ratingSO', ascending=False)\n",
    "print(teamsEFL_ordered)"
   ]
  },
  {
   "cell_type": "code",
   "execution_count": null,
   "metadata": {},
   "outputs": [],
   "source": []
  }
 ],
 "metadata": {
  "kernelspec": {
   "display_name": "Python 3",
   "language": "python",
   "name": "python3"
  },
  "language_info": {
   "codemirror_mode": {
    "name": "ipython",
    "version": 3
   },
   "file_extension": ".py",
   "mimetype": "text/x-python",
   "name": "python",
   "nbconvert_exporter": "python",
   "pygments_lexer": "ipython3",
   "version": "3.8.2"
  }
 },
 "nbformat": 4,
 "nbformat_minor": 4
}
