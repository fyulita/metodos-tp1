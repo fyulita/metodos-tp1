{
 "cells": [
  {
   "cell_type": "markdown",
   "metadata": {},
   "source": [
    "# Tests cortitos"
   ]
  },
  {
   "cell_type": "markdown",
   "metadata": {},
   "source": [
    "### Importamos la librerías necesarias"
   ]
  },
  {
   "cell_type": "code",
   "execution_count": 1,
   "metadata": {},
   "outputs": [],
   "source": [
    "import numpy as np\n",
    "import matplotlib.pyplot as plt\n",
    "import subprocess\n",
    "import time\n",
    "from tqdm import tqdm"
   ]
  },
  {
   "cell_type": "markdown",
   "metadata": {},
   "source": [
    "### Definimos las funciones necesarias para correr las funciones de C++ y chequearlas"
   ]
  },
  {
   "cell_type": "code",
   "execution_count": 2,
   "metadata": {},
   "outputs": [],
   "source": [
    "# Corre alguna de las funciones de C++ (especificando el metodo segun el README.md),\n",
    "# guarda el archivo de salida en la misma carpeta y devuelve el tiempo de computo.\n",
    "def runMethod(filePATH, method, outputPATH):\n",
    "    startTime = time.time()\n",
    "    process = subprocess.run(['./tp01', filePATH, outputPATH, str(method)])\n",
    "    endTime = time.time()\n",
    "    duration = endTime - startTime\n",
    "    return duration\n",
    "\n",
    "\n",
    "def equalWithError(a, b, e):\n",
    "    ans = True\n",
    "    if (a + e < b - e and a - e > b + e):\n",
    "        ans = False\n",
    "    return ans\n",
    "\n",
    "\n",
    "# Chequea que el output de un test sea igual que el esperado.\n",
    "def checkOutput(outputPATH, expectedPATH, error):\n",
    "    output = open(outputPATH, 'r').readlines()\n",
    "    expected = open(expectedPATH, 'r').readlines()\n",
    "    \n",
    "    if len(output) != len(expected):\n",
    "        return 'ERROR: El output y el expected no miden lo mismo.' \n",
    "    else:\n",
    "        ans = True\n",
    "        for line in range(len(output)):\n",
    "            if not equalWithError(float(output[line]), float(output[line]), error):\n",
    "                ans = False\n",
    "        if ans:\n",
    "            return f'El output es igual al esperado con un error de {error}.'\n",
    "        else:\n",
    "            return f'El output no es igual al esperado.'"
   ]
  },
  {
   "cell_type": "markdown",
   "metadata": {},
   "source": [
    "### Usamos los tests que armamos para chequear las funciones"
   ]
  },
  {
   "cell_type": "code",
   "execution_count": 3,
   "metadata": {},
   "outputs": [],
   "source": [
    "testWPPATH = 'src/TestsWP/'\n",
    "testCMMPATH = 'src/TestsCMM/'\n",
    "tests = ['test1', 'test2', 'test-prob-1', 'test-prob-2']\n",
    "\n",
    "error = 1e-4"
   ]
  },
  {
   "cell_type": "code",
   "execution_count": 4,
   "metadata": {
    "scrolled": true
   },
   "outputs": [
    {
     "name": "stdout",
     "output_type": "stream",
     "text": [
      "-------- WP Tests --------\n",
      "test1: El output es igual al esperado con un error de 0.0001.\n",
      "test2: El output es igual al esperado con un error de 0.0001.\n",
      "test-prob-1: El output es igual al esperado con un error de 0.0001.\n",
      "test-prob-2: El output es igual al esperado con un error de 0.0001.\n",
      "-------- CMM Tests --------\n",
      "test1: El output es igual al esperado con un error de 0.0001.\n",
      "test2: El output es igual al esperado con un error de 0.0001.\n",
      "test-prob-1: El output es igual al esperado con un error de 0.0001.\n",
      "test-prob-2: El output es igual al esperado con un error de 0.0001.\n"
     ]
    }
   ],
   "source": [
    "for i in range(len(tests)):\n",
    "    runMethod(testWPPATH + tests[i] + '.in', 0, testWPPATH + tests[i] + '.out')\n",
    "    runMethod(testCMMPATH + tests[i] + '.in', 0, testCMMPATH + tests[i] + '.out')\n",
    "\n",
    "print('-------- WP Tests --------')\n",
    "for i in range(len(tests)):\n",
    "    print(tests[i] + ': ' + checkOutput(testWPPATH + tests[i] + '.out', testWPPATH + tests[i] + '.expected', error))\n",
    "\n",
    "print('-------- CMM Tests --------')\n",
    "for i in range(len(tests)):\n",
    "    print(tests[i] + ': ' + checkOutput(testCMMPATH + tests[i] + '.out', testCMMPATH + tests[i] + '.expected', error))"
   ]
  },
  {
   "cell_type": "markdown",
   "metadata": {},
   "source": [
    "### Armamos listas con tuplas del tiempo promedio de cómputo de cada test y de la desviación estándar"
   ]
  },
  {
   "cell_type": "code",
   "execution_count": 5,
   "metadata": {},
   "outputs": [],
   "source": [
    "def getAvgTime(filePATH, method, outputPATH, n=100):\n",
    "    times = []\n",
    "    for _ in range(n):\n",
    "        times.append(runMethod(filePATH, method, outputPATH))\n",
    "    return np.mean(times), np.std(times)"
   ]
  },
  {
   "cell_type": "code",
   "execution_count": 6,
   "metadata": {},
   "outputs": [
    {
     "name": "stderr",
     "output_type": "stream",
     "text": [
      "100%|██████████| 4/4 [00:04<00:00,  1.11s/it]"
     ]
    },
    {
     "name": "stdout",
     "output_type": "stream",
     "text": [
      "[(0.006084527969360352, 0.0021156321598480923), (0.005130717754364014, 0.0013205271321437002), (0.005075285434722901, 0.0014561735860111156), (0.006577446460723877, 0.003072849630654749)]\n",
      "[(0.00524604082107544, 0.0014819047977951557), (0.00513383150100708, 0.0013548178158230939), (0.005820941925048828, 0.002305051332135117), (0.005056991577148438, 0.0012906238068204235)]\n"
     ]
    },
    {
     "name": "stderr",
     "output_type": "stream",
     "text": [
      "\n"
     ]
    }
   ],
   "source": [
    "timesWP = []\n",
    "timesCMM = []\n",
    "for i in tqdm(range(len(tests))):\n",
    "    timesWP.append(getAvgTime(testWPPATH + tests[i] + '.in', 0, testWPPATH + tests[i] + '.out'))\n",
    "    timesCMM.append(getAvgTime(testCMMPATH + tests[i] + '.in', 0, testCMMPATH + tests[i] + '.out'))\n",
    "\n",
    "print(timesWP)\n",
    "print(timesCMM)"
   ]
  },
  {
   "cell_type": "markdown",
   "metadata": {},
   "source": [
    "# Tests posta"
   ]
  },
  {
   "cell_type": "markdown",
   "metadata": {},
   "source": [
    "### Definimos los archivos con data sobre NBA (Basketball) y ATP (Tennis)."
   ]
  },
  {
   "cell_type": "code",
   "execution_count": 15,
   "metadata": {},
   "outputs": [],
   "source": [
    "import pandas as pd\n",
    "\n",
    "\n",
    "teamsNBA = pd.read_csv('data/nba_2016_teams.csv', names=['id', 'team'])\n",
    "scoresNBA = pd.read_csv('data/nba_2016_scores.csv', names=['???', 'date', 'team1', 'result1', 'score1', 'team2', 'result2', 'score2'])\n",
    "playersATP = pd.read_csv('data/atp_players.csv', encoding='latin-1', names=['id', 'name', 'last name', 'hand', 'born', 'country'])\n",
    "matchesATP = pd.read_csv('data/atp_matches_2015.csv')"
   ]
  },
  {
   "cell_type": "markdown",
   "metadata": {},
   "source": [
    "## NBA"
   ]
  },
  {
   "cell_type": "code",
   "execution_count": 8,
   "metadata": {},
   "outputs": [
    {
     "name": "stdout",
     "output_type": "stream",
     "text": [
      "------ Equipos ------\n",
      "    id            team\n",
      "0    1         Atlanta\n",
      "1    2          Boston\n",
      "2    3        Brooklyn\n",
      "3    4       Charlotte\n",
      "4    5         Chicago\n",
      "5    6       Cleveland\n",
      "6    7          Dallas\n",
      "7    8          Denver\n",
      "8    9         Detroit\n",
      "9   10    Golden_State\n",
      "10  11         Houston\n",
      "11  12         Indiana\n",
      "12  13     LA_Clippers\n",
      "13  14       LA_Lakers\n",
      "14  15         Memphis\n",
      "15  16           Miami\n",
      "16  17       Milwaukee\n",
      "17  18       Minnesota\n",
      "18  19     New_Orleans\n",
      "19  20        New_York\n",
      "20  21   Oklahoma_City\n",
      "21  22         Orlando\n",
      "22  23    Philadelphia\n",
      "23  24         Phoenix\n",
      "24  25        Portland\n",
      "25  26      Sacramento\n",
      "26  27     San_Antonio\n",
      "27  28         Toronto\n",
      "28  29            Utah\n",
      "29  30      Washington\n",
      "------ Partidos ------\n",
      "         ???      date  team1  result1  score1  team2  result2  score2\n",
      "0     736263  20151027      9       -1     106      1        1      94\n",
      "1     736263  20151027      5        1      97      6       -1      95\n",
      "2     736263  20151027     10        1     111     19       -1      95\n",
      "3     736264  20151028     30       -1      88     22        1      87\n",
      "4     736264  20151028      2        1     112     23       -1      95\n",
      "...      ...       ...    ...      ...     ...    ...      ...     ...\n",
      "997   736403  20160315     22        1     116      8       -1     110\n",
      "998   736403  20160315      3        1     131     23       -1     114\n",
      "999   736403  20160315     28       -1     107     17        1      89\n",
      "1000  736403  20160315     27        1     108     13       -1      87\n",
      "1001  736403  20160315     26       -1     106     14        1      98\n",
      "\n",
      "[1002 rows x 8 columns]\n"
     ]
    }
   ],
   "source": [
    "print('------ Equipos ------')\n",
    "print(teamsNBA)\n",
    "print('------ Partidos ------')\n",
    "print(scoresNBA)"
   ]
  },
  {
   "cell_type": "markdown",
   "metadata": {},
   "source": [
    "### Quisiéramos hacer un archivo .in con esta información para poder ejecutar las funciones que creamos en C++."
   ]
  },
  {
   "cell_type": "code",
   "execution_count": 9,
   "metadata": {},
   "outputs": [
    {
     "data": {
      "text/plain": [
       "0.010062694549560547"
      ]
     },
     "execution_count": 9,
     "metadata": {},
     "output_type": "execute_result"
    }
   ],
   "source": [
    "file = open('data/nba_2016_scores.in', 'w+')\n",
    "file.write(str(len(teamsNBA)) + ' ' + str(len(scoresNBA)) + '\\n')\n",
    "\n",
    "for i in range(len(scoresNBA)):\n",
    "    file.write(str(scoresNBA.loc[i, 'date']) + ' ' + str(scoresNBA.loc[i, 'team1']) + ' ' + str(scoresNBA.loc[i, 'score1']) + ' ' + str(scoresNBA.loc[i, 'team2']) + ' ' + str(scoresNBA.loc[i, 'score2']) + '\\n')\n",
    "file.close()\n",
    "\n",
    "runMethod('data/nba_2016_scores.in', 0, 'data/nba_2016_scores_0.out')\n",
    "runMethod('data/nba_2016_scores.in', 1, 'data/nba_2016_scores_1.out')"
   ]
  },
  {
   "cell_type": "markdown",
   "metadata": {},
   "source": [
    "### Veamos el ranking según CMM."
   ]
  },
  {
   "cell_type": "code",
   "execution_count": 10,
   "metadata": {},
   "outputs": [
    {
     "name": "stdout",
     "output_type": "stream",
     "text": [
      "    id            team    rating\n",
      "0    1         Atlanta  0.558822\n",
      "1    2          Boston  0.565690\n",
      "2    3        Brooklyn  0.290736\n",
      "3    4       Charlotte  0.558224\n",
      "4    5         Chicago  0.516007\n",
      "5    6       Cleveland  0.692428\n",
      "6    7          Dallas  0.502178\n",
      "7    8          Denver  0.420858\n",
      "8    9         Detroit  0.500250\n",
      "9   10    Golden_State  0.874063\n",
      "10  11         Houston  0.511327\n",
      "11  12         Indiana  0.547962\n",
      "12  13     LA_Clippers  0.629708\n",
      "13  14       LA_Lakers  0.236722\n",
      "14  15         Memphis  0.563176\n",
      "15  16           Miami  0.577367\n",
      "16  17       Milwaukee  0.435025\n",
      "17  18       Minnesota  0.319984\n",
      "18  19     New_Orleans  0.384521\n",
      "19  20        New_York  0.414393\n",
      "20  21   Oklahoma_City  0.655552\n",
      "21  22         Orlando  0.432244\n",
      "22  23    Philadelphia  0.150813\n",
      "23  24         Phoenix  0.298952\n",
      "24  25        Portland  0.515941\n",
      "25  26      Sacramento  0.412817\n",
      "26  27     San_Antonio  0.803976\n",
      "27  28         Toronto  0.659347\n",
      "28  29            Utah  0.487206\n",
      "29  30      Washington  0.483709\n"
     ]
    }
   ],
   "source": [
    "file = open('data/nba_2016_scores_0.out', 'r').readlines()\n",
    "rating = []\n",
    "for line in file:\n",
    "    rating.append(float(line))\n",
    "\n",
    "teamsNBA.insert(2, 'rating', rating)\n",
    "print(teamsNBA)"
   ]
  },
  {
   "cell_type": "code",
   "execution_count": 12,
   "metadata": {},
   "outputs": [
    {
     "name": "stdout",
     "output_type": "stream",
     "text": [
      "------ Ranking ------\n",
      "    id            team    rating\n",
      "9   10    Golden_State  0.874063\n",
      "26  27     San_Antonio  0.803976\n",
      "5    6       Cleveland  0.692428\n",
      "27  28         Toronto  0.659347\n",
      "20  21   Oklahoma_City  0.655552\n",
      "12  13     LA_Clippers  0.629708\n",
      "15  16           Miami  0.577367\n",
      "1    2          Boston  0.565690\n",
      "14  15         Memphis  0.563176\n",
      "0    1         Atlanta  0.558822\n",
      "3    4       Charlotte  0.558224\n",
      "11  12         Indiana  0.547962\n",
      "4    5         Chicago  0.516007\n",
      "24  25        Portland  0.515941\n",
      "10  11         Houston  0.511327\n",
      "6    7          Dallas  0.502178\n",
      "8    9         Detroit  0.500250\n",
      "28  29            Utah  0.487206\n",
      "29  30      Washington  0.483709\n",
      "16  17       Milwaukee  0.435025\n",
      "21  22         Orlando  0.432244\n",
      "7    8          Denver  0.420858\n",
      "19  20        New_York  0.414393\n",
      "25  26      Sacramento  0.412817\n",
      "18  19     New_Orleans  0.384521\n",
      "17  18       Minnesota  0.319984\n",
      "23  24         Phoenix  0.298952\n",
      "2    3        Brooklyn  0.290736\n",
      "13  14       LA_Lakers  0.236722\n",
      "22  23    Philadelphia  0.150813\n"
     ]
    }
   ],
   "source": [
    "print('------ Ranking ------')\n",
    "\n",
    "teamsNBA_ordered = teamsNBA.sort_values(by='rating', ascending=False)\n",
    "print(teamsNBA_ordered)"
   ]
  },
  {
   "cell_type": "markdown",
   "metadata": {},
   "source": [
    "## ATP"
   ]
  },
  {
   "cell_type": "code",
   "execution_count": 16,
   "metadata": {},
   "outputs": [
    {
     "name": "stdout",
     "output_type": "stream",
     "text": [
      "------ Jugadores ------\n",
      "           id            name        last name hand        born country\n",
      "0      100001         Gardnar           Mulloy    R  19131122.0     USA\n",
      "1      100002          Pancho           Segura    R  19210620.0     ECU\n",
      "2      100003           Frank          Sedgman    R  19271002.0     AUS\n",
      "3      100004        Giuseppe            Merlo    R  19271011.0     ITA\n",
      "4      100005  Richard Pancho         Gonzales    R  19280509.0     USA\n",
      "...       ...             ...              ...  ...         ...     ...\n",
      "45679  200593           Adria          Alvarez    U  19970412.0     ESP\n",
      "45680  200594        Kristian            Lozan    U  19981026.0     RUS\n",
      "45681  200595         Lorenzo           Bocchi    R  19971129.0     ITA\n",
      "45682  200596           Elvio         Di Cosmo    U  19971124.0     ITA\n",
      "45683  200597    Andres Ariel  Fernandez Lopez    R  19980421.0     ARG\n",
      "\n",
      "[45684 rows x 6 columns]\n",
      "------ Partidos ------\n",
      "     tourney_id                 tourney_name surface  draw_size tourney_level  \\\n",
      "0      2015-329                        Tokyo    Hard         32             A   \n",
      "1      2015-329                        Tokyo    Hard         32             A   \n",
      "2      2015-329                        Tokyo    Hard         32             A   \n",
      "3      2015-329                        Tokyo    Hard         32             A   \n",
      "4      2015-329                        Tokyo    Hard         32             A   \n",
      "...         ...                          ...     ...        ...           ...   \n",
      "2953  2015-D080  Davis Cup WG PO: BRA vs CRO    Clay          4             D   \n",
      "2954  2015-D081  Davis Cup WG PO: POL vs SVK    Hard          4             D   \n",
      "2955  2015-D081  Davis Cup WG PO: POL vs SVK    Hard          4             D   \n",
      "2956  2015-D081  Davis Cup WG PO: POL vs SVK    Hard          4             D   \n",
      "2957  2015-D081  Davis Cup WG PO: POL vs SVK    Hard          4             D   \n",
      "\n",
      "      tourney_date  match_num  winner_id  winner_seed winner_entry  ...  \\\n",
      "0         20151005          1     104527          1.0          NaN  ...   \n",
      "1         20151005          2     105147          NaN           WC  ...   \n",
      "2         20151005          3     105572          NaN            Q  ...   \n",
      "3         20151005          4     105311          NaN          NaN  ...   \n",
      "4         20151005          5     104468          3.0          NaN  ...   \n",
      "...            ...        ...        ...          ...          ...  ...   \n",
      "2953      20150918          3     106432          NaN          NaN  ...   \n",
      "2954      20150918          1     105373          NaN          NaN  ...   \n",
      "2955      20150918          2     105668          NaN          NaN  ...   \n",
      "2956      20150918          3     105373          NaN          NaN  ...   \n",
      "2957      20150918          4     104308          NaN          NaN  ...   \n",
      "\n",
      "     w_bpFaced l_ace  l_df l_svpt  l_1stIn  l_1stWon  l_2ndWon  l_SvGms  \\\n",
      "0          1.0   2.0   2.0   71.0     46.0      33.0      10.0     10.0   \n",
      "1         14.0   1.0   4.0   96.0     52.0      25.0      23.0     13.0   \n",
      "2          7.0  15.0   7.0  128.0     74.0      60.0      27.0     18.0   \n",
      "3          6.0   9.0   5.0   85.0     42.0      27.0      21.0     13.0   \n",
      "4          6.0   0.0   5.0   61.0     33.0      24.0      10.0     10.0   \n",
      "...        ...   ...   ...    ...      ...       ...       ...      ...   \n",
      "2953       NaN   NaN   NaN    NaN      NaN       NaN       NaN      NaN   \n",
      "2954       NaN   NaN   NaN    NaN      NaN       NaN       NaN      NaN   \n",
      "2955       NaN   NaN   NaN    NaN      NaN       NaN       NaN      NaN   \n",
      "2956       NaN   NaN   NaN    NaN      NaN       NaN       NaN      NaN   \n",
      "2957       NaN   NaN   NaN    NaN      NaN       NaN       NaN      NaN   \n",
      "\n",
      "      l_bpSaved l_bpFaced  \n",
      "0           2.0       5.0  \n",
      "1          12.0      19.0  \n",
      "2           9.0      11.0  \n",
      "3           4.0       8.0  \n",
      "4           1.0       5.0  \n",
      "...         ...       ...  \n",
      "2953        NaN       NaN  \n",
      "2954        NaN       NaN  \n",
      "2955        NaN       NaN  \n",
      "2956        NaN       NaN  \n",
      "2957        NaN       NaN  \n",
      "\n",
      "[2958 rows x 49 columns]\n"
     ]
    }
   ],
   "source": [
    "print('------ Jugadores ------')\n",
    "print(playersATP)\n",
    "print('------ Partidos ------')\n",
    "print(matchesATP)"
   ]
  },
  {
   "cell_type": "code",
   "execution_count": null,
   "metadata": {},
   "outputs": [],
   "source": []
  }
 ],
 "metadata": {
  "kernelspec": {
   "display_name": "Python 3",
   "language": "python",
   "name": "python3"
  },
  "language_info": {
   "codemirror_mode": {
    "name": "ipython",
    "version": 3
   },
   "file_extension": ".py",
   "mimetype": "text/x-python",
   "name": "python",
   "nbconvert_exporter": "python",
   "pygments_lexer": "ipython3",
   "version": "3.8.2"
  }
 },
 "nbformat": 4,
 "nbformat_minor": 4
}
