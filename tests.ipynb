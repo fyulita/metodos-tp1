{
 "cells": [
  {
   "cell_type": "markdown",
   "metadata": {},
   "source": [
    "# Tests cortitos"
   ]
  },
  {
   "cell_type": "markdown",
   "metadata": {},
   "source": [
    "### Importamos la librerías necesarias"
   ]
  },
  {
   "cell_type": "code",
   "execution_count": 33,
   "metadata": {},
   "outputs": [],
   "source": [
    "import numpy as np\n",
    "import matplotlib.pyplot as plt\n",
    "import subprocess\n",
    "import time\n",
    "from tqdm import tqdm"
   ]
  },
  {
   "cell_type": "markdown",
   "metadata": {},
   "source": [
    "### Definimos las funciones necesarias para correr las funciones de C++ y chequearlas"
   ]
  },
  {
   "cell_type": "code",
   "execution_count": 34,
   "metadata": {},
   "outputs": [],
   "source": [
    "# Corre alguna de las funciones de C++ (especificando el metodo segun el README.md),\n",
    "# guarda el archivo de salida en la misma carpeta y devuelve el tiempo de computo.\n",
    "def runMethod(filePATH, method, outputPATH):\n",
    "    startTime = time.time()\n",
    "    process = subprocess.run(['./tp01', filePATH, outputPATH, str(method)])\n",
    "    endTime = time.time()\n",
    "    duration = endTime - startTime\n",
    "    return duration\n",
    "\n",
    "\n",
    "def equalWithError(a, b, e):\n",
    "    ans = True\n",
    "    if (a + e < b - e and a - e > b + e):\n",
    "        ans = False\n",
    "    return ans\n",
    "\n",
    "\n",
    "# Chequea que el output de un test sea igual que el esperado.\n",
    "def checkOutput(outputPATH, expectedPATH, error):\n",
    "    output = open(outputPATH, 'r').readlines()\n",
    "    expected = open(expectedPATH, 'r').readlines()\n",
    "    \n",
    "    if len(output) != len(expected):\n",
    "        return 'ERROR: El output y el expected no miden lo mismo.' \n",
    "    else:\n",
    "        ans = True\n",
    "        for line in range(2):\n",
    "            if not equalWithError(float(output[line][:-1]), float(expected[line][:-1]), error):\n",
    "                ans = False\n",
    "        if ans:\n",
    "            return f'El output es igual al esperado con un error de {error}.'\n",
    "        else:\n",
    "            return f'El output no es igual al esperado.'\n",
    "    output.close()\n",
    "    expected.close()\n",
    "        \n"
   ]
  },
  {
   "cell_type": "markdown",
   "metadata": {},
   "source": [
    "### Usamos los tests que armamos para chequear las funciones"
   ]
  },
  {
   "cell_type": "code",
   "execution_count": 35,
   "metadata": {},
   "outputs": [],
   "source": [
    "testWPPATH = 'src/TestsWP/'\n",
    "testCMMPATH = 'src/TestsCMM/'\n",
    "tests = ['test1', 'test2', 'test-prob-1', 'test-prob-2']\n",
    "\n",
    "error = 1e-4"
   ]
  },
  {
   "cell_type": "code",
   "execution_count": 36,
   "metadata": {
    "scrolled": true
   },
   "outputs": [
    {
     "name": "stdout",
     "output_type": "stream",
     "text": [
      "-------- WP Tests --------\n",
      "test1: El output es igual al esperado con un error de 0.0001.\n",
      "test2: El output es igual al esperado con un error de 0.0001.\n",
      "test-prob-1: El output es igual al esperado con un error de 0.0001.\n",
      "test-prob-2: El output es igual al esperado con un error de 0.0001.\n",
      "-------- CMM Tests --------\n",
      "test1: El output es igual al esperado con un error de 0.0001.\n",
      "test2: El output es igual al esperado con un error de 0.0001.\n",
      "test-prob-1: El output es igual al esperado con un error de 0.0001.\n",
      "test-prob-2: El output es igual al esperado con un error de 0.0001.\n"
     ]
    }
   ],
   "source": [
    "for i in range(len(tests)):\n",
    "    runMethod(testWPPATH + tests[i] + '.in', 0, testWPPATH + tests[i] + '.out')\n",
    "    runMethod(testCMMPATH + tests[i] + '.in', 0, testCMMPATH + tests[i] + '.out')\n",
    "\n",
    "print('-------- WP Tests --------')\n",
    "for i in range(len(tests)):\n",
    "    print(tests[i] + ': ' + checkOutput(testWPPATH + tests[i] + '.out', testWPPATH + tests[i] + '.expected', error))\n",
    "\n",
    "print('-------- CMM Tests --------')\n",
    "for i in range(len(tests)):\n",
    "    print(tests[i] + ': ' + checkOutput(testCMMPATH + tests[i] + '.out', testCMMPATH + tests[i] + '.expected', error))"
   ]
  },
  {
   "cell_type": "markdown",
   "metadata": {},
   "source": [
    "### Armamos listas con tuplas del tiempo promedio de cómputo de cada test y de la desviación estándar"
   ]
  },
  {
   "cell_type": "code",
   "execution_count": 5,
   "metadata": {},
   "outputs": [],
   "source": [
    "def getAvgTime(filePATH, method, outputPATH, n=100):\n",
    "    times = []\n",
    "    for _ in range(n):\n",
    "        times.append(runMethod(filePATH, method, outputPATH))\n",
    "    return np.mean(times), np.std(times)"
   ]
  },
  {
   "cell_type": "code",
   "execution_count": 6,
   "metadata": {},
   "outputs": [
    {
     "name": "stderr",
     "output_type": "stream",
     "text": [
      "100%|██████████| 4/4 [00:02<00:00,  1.38it/s]"
     ]
    },
    {
     "name": "stdout",
     "output_type": "stream",
     "text": [
      "[(0.0039446473121643065, 0.0012475001910283849), (0.003260371685028076, 0.00047785659356402353), (0.0032678890228271485, 0.0006130040463421049), (0.0038899922370910643, 0.0006463818020272798)]\n",
      "[(0.003020415306091309, 0.0002023393921661053), (0.005065500736236572, 0.002441888459455921), (0.0029526567459106446, 0.0001470088000580274), (0.0033592867851257326, 0.0002389077453111092)]\n"
     ]
    },
    {
     "name": "stderr",
     "output_type": "stream",
     "text": [
      "\n"
     ]
    }
   ],
   "source": [
    "timesWP = []\n",
    "timesCMM = []\n",
    "for i in tqdm(range(len(tests))):\n",
    "    timesWP.append(getAvgTime(testWPPATH + tests[i] + '.in', 0, testWPPATH + tests[i] + '.out'))\n",
    "    timesCMM.append(getAvgTime(testCMMPATH + tests[i] + '.in', 0, testCMMPATH + tests[i] + '.out'))\n",
    "\n",
    "print(timesWP)\n",
    "print(timesCMM)"
   ]
  },
  {
   "cell_type": "markdown",
   "metadata": {},
   "source": [
    "# Tests posta"
   ]
  },
  {
   "cell_type": "markdown",
   "metadata": {},
   "source": [
    "### Definimos los archivos con equipos de NBA (Basketball) y jugadores de ATP (Tennis)."
   ]
  },
  {
   "cell_type": "code",
   "execution_count": 73,
   "metadata": {},
   "outputs": [],
   "source": [
    "import pandas as pd\n",
    "\n",
    "\n",
    "teamsNBA = pd.read_csv('data/nba_2016_teams.csv', names=['id', 'team'])\n",
    "scoresNBA = pd.read_csv('data/nba_2016_scores.csv', names=['???', 'date', 'team1', 'loca1', 'score1', 'team2', 'local2', 'score2'])"
   ]
  },
  {
   "cell_type": "markdown",
   "metadata": {},
   "source": [
    "## NBA"
   ]
  },
  {
   "cell_type": "code",
   "execution_count": 74,
   "metadata": {},
   "outputs": [
    {
     "name": "stdout",
     "output_type": "stream",
     "text": [
      "------ Equipos ------\n",
      "    id            team\n",
      "0    1         Atlanta\n",
      "1    2          Boston\n",
      "2    3        Brooklyn\n",
      "3    4       Charlotte\n",
      "4    5         Chicago\n",
      "5    6       Cleveland\n",
      "6    7          Dallas\n",
      "7    8          Denver\n",
      "8    9         Detroit\n",
      "9   10    Golden_State\n",
      "10  11         Houston\n",
      "11  12         Indiana\n",
      "12  13     LA_Clippers\n",
      "13  14       LA_Lakers\n",
      "14  15         Memphis\n",
      "15  16           Miami\n",
      "16  17       Milwaukee\n",
      "17  18       Minnesota\n",
      "18  19     New_Orleans\n",
      "19  20        New_York\n",
      "20  21   Oklahoma_City\n",
      "21  22         Orlando\n",
      "22  23    Philadelphia\n",
      "23  24         Phoenix\n",
      "24  25        Portland\n",
      "25  26      Sacramento\n",
      "26  27     San_Antonio\n",
      "27  28         Toronto\n",
      "28  29            Utah\n",
      "29  30      Washington\n",
      "         ???      date  team1  loca1  score1  team2  local2  score2\n",
      "0     736263  20151027      9     -1     106      1       1      94\n",
      "1     736263  20151027      5      1      97      6      -1      95\n",
      "2     736263  20151027     10      1     111     19      -1      95\n",
      "3     736264  20151028     30     -1      88     22       1      87\n",
      "4     736264  20151028      2      1     112     23      -1      95\n",
      "...      ...       ...    ...    ...     ...    ...     ...     ...\n",
      "997   736403  20160315     22      1     116      8      -1     110\n",
      "998   736403  20160315      3      1     131     23      -1     114\n",
      "999   736403  20160315     28     -1     107     17       1      89\n",
      "1000  736403  20160315     27      1     108     13      -1      87\n",
      "1001  736403  20160315     26     -1     106     14       1      98\n",
      "\n",
      "[1002 rows x 8 columns]\n"
     ]
    }
   ],
   "source": [
    "print('------ Equipos ------')\n",
    "print(teamsNBA)\n",
    "print(scoresNBA)"
   ]
  },
  {
   "cell_type": "markdown",
   "metadata": {},
   "source": [
    "### Hagamos un archivo .in que tenga la info de los partidos."
   ]
  },
  {
   "cell_type": "code",
   "execution_count": 75,
   "metadata": {},
   "outputs": [],
   "source": [
    "file = open('data/nba_2016_scores.in', 'w+')\n",
    "file.write(str(len(teamsNBA)) + ' ' + str(len(scoresNBA)) + '\\n')\n",
    "\n",
    "for i in range(len(scoresNBA)):\n",
    "    file.write(str(scoresNBA.loc[i, 'date']) + ' ' + str(scoresNBA.loc[i, 'team1']) + ' ' + \n",
    "               str(scoresNBA.loc[i, 'score1']) + ' ' + str(scoresNBA.loc[i, 'team2']) + ' ' + \n",
    "               str(scoresNBA.loc[i, 'score2']) + '\\n')\n",
    "file.close()"
   ]
  },
  {
   "cell_type": "markdown",
   "metadata": {},
   "source": [
    "### Ejecutemos las funciones WP y CMM para estos equipos."
   ]
  },
  {
   "cell_type": "code",
   "execution_count": 76,
   "metadata": {},
   "outputs": [
    {
     "data": {
      "text/plain": [
       "0.011733293533325195"
      ]
     },
     "execution_count": 76,
     "metadata": {},
     "output_type": "execute_result"
    }
   ],
   "source": [
    "runMethod('data/nba_2016_scores.in', 0, 'data/nba_2016_scores_0.out')\n",
    "runMethod('data/nba_2016_scores.in', 1, 'data/nba_2016_scores_1.out')"
   ]
  },
  {
   "cell_type": "markdown",
   "metadata": {},
   "source": [
    "### Veamos el ranking según WP y CMM."
   ]
  },
  {
   "cell_type": "code",
   "execution_count": 77,
   "metadata": {},
   "outputs": [
    {
     "name": "stdout",
     "output_type": "stream",
     "text": [
      "    id            team  ratingCMM  ratingWP\n",
      "0    1         Atlanta   0.558822  0.507463\n",
      "1    2          Boston   0.565690  0.567164\n",
      "2    3        Brooklyn   0.290736  0.507692\n",
      "3    4       Charlotte   0.558224  0.712121\n",
      "4    5         Chicago   0.516007  0.909091\n",
      "5    6       Cleveland   0.692428  0.363636\n",
      "6    7          Dallas   0.502178  0.469697\n",
      "7    8          Denver   0.420858  0.439394\n",
      "8    9         Detroit   0.500250  0.582090\n",
      "9   10    Golden_State   0.874063  0.134328\n",
      "10  11         Houston   0.511327  0.477612\n",
      "11  12         Indiana   0.547962  0.582090\n",
      "12  13     LA_Clippers   0.629708  0.560606\n",
      "13  14       LA_Lakers   0.236722  0.283582\n",
      "14  15         Memphis   0.563176  0.681818\n",
      "15  16           Miami   0.577367  0.537313\n",
      "16  17       Milwaukee   0.435025  0.411765\n",
      "17  18       Minnesota   0.319984  0.507463\n",
      "18  19     New_Orleans   0.384521  0.411765\n",
      "19  20        New_York   0.414393  0.426471\n",
      "20  21   Oklahoma_City   0.655552  0.671642\n",
      "21  22         Orlando   0.432244  0.850746\n",
      "22  23    Philadelphia   0.150813  0.582090\n",
      "23  24         Phoenix   0.298952  0.507463\n",
      "24  25        Portland   0.515941  0.268657\n",
      "25  26      Sacramento   0.412817  0.514706\n",
      "26  27     San_Antonio   0.803976  0.636364\n",
      "27  28         Toronto   0.659347  0.393939\n",
      "28  29            Utah   0.487206  0.313433\n",
      "29  30      Washington   0.483709  0.205882\n"
     ]
    }
   ],
   "source": [
    "fileCMM = open('data/nba_2016_scores_0.out', 'r').readlines()\n",
    "fileWP = open('data/nba_2016_scores_1.out', 'r').readlines()\n",
    "ratingCMM = []\n",
    "ratingWP = []\n",
    "for line in fileCMM:\n",
    "    ratingCMM.append(float(line))\n",
    "for line in fileWP:\n",
    "    ratingWP.append(float(line))\n",
    "\n",
    "teamsNBA.insert(2, 'ratingCMM', ratingCMM)\n",
    "teamsNBA.insert(3, 'ratingWP', ratingWP)\n",
    "print(teamsNBA)"
   ]
  },
  {
   "cell_type": "code",
   "execution_count": 78,
   "metadata": {},
   "outputs": [
    {
     "name": "stdout",
     "output_type": "stream",
     "text": [
      "------ Ranking CMM ------\n",
      "    id            team  ratingCMM  ratingWP\n",
      "9   10    Golden_State   0.874063  0.134328\n",
      "26  27     San_Antonio   0.803976  0.636364\n",
      "5    6       Cleveland   0.692428  0.363636\n",
      "27  28         Toronto   0.659347  0.393939\n",
      "20  21   Oklahoma_City   0.655552  0.671642\n",
      "12  13     LA_Clippers   0.629708  0.560606\n",
      "15  16           Miami   0.577367  0.537313\n",
      "1    2          Boston   0.565690  0.567164\n",
      "14  15         Memphis   0.563176  0.681818\n",
      "0    1         Atlanta   0.558822  0.507463\n",
      "3    4       Charlotte   0.558224  0.712121\n",
      "11  12         Indiana   0.547962  0.582090\n",
      "4    5         Chicago   0.516007  0.909091\n",
      "24  25        Portland   0.515941  0.268657\n",
      "10  11         Houston   0.511327  0.477612\n",
      "6    7          Dallas   0.502178  0.469697\n",
      "8    9         Detroit   0.500250  0.582090\n",
      "28  29            Utah   0.487206  0.313433\n",
      "29  30      Washington   0.483709  0.205882\n",
      "16  17       Milwaukee   0.435025  0.411765\n",
      "21  22         Orlando   0.432244  0.850746\n",
      "7    8          Denver   0.420858  0.439394\n",
      "19  20        New_York   0.414393  0.426471\n",
      "25  26      Sacramento   0.412817  0.514706\n",
      "18  19     New_Orleans   0.384521  0.411765\n",
      "17  18       Minnesota   0.319984  0.507463\n",
      "23  24         Phoenix   0.298952  0.507463\n",
      "2    3        Brooklyn   0.290736  0.507692\n",
      "13  14       LA_Lakers   0.236722  0.283582\n",
      "22  23    Philadelphia   0.150813  0.582090\n",
      "------ Ranking WP ------\n",
      "    id            team  ratingCMM  ratingWP\n",
      "4    5         Chicago   0.516007  0.909091\n",
      "21  22         Orlando   0.432244  0.850746\n",
      "3    4       Charlotte   0.558224  0.712121\n",
      "14  15         Memphis   0.563176  0.681818\n",
      "20  21   Oklahoma_City   0.655552  0.671642\n",
      "26  27     San_Antonio   0.803976  0.636364\n",
      "8    9         Detroit   0.500250  0.582090\n",
      "22  23    Philadelphia   0.150813  0.582090\n",
      "11  12         Indiana   0.547962  0.582090\n",
      "1    2          Boston   0.565690  0.567164\n",
      "12  13     LA_Clippers   0.629708  0.560606\n",
      "15  16           Miami   0.577367  0.537313\n",
      "25  26      Sacramento   0.412817  0.514706\n",
      "2    3        Brooklyn   0.290736  0.507692\n",
      "17  18       Minnesota   0.319984  0.507463\n",
      "23  24         Phoenix   0.298952  0.507463\n",
      "0    1         Atlanta   0.558822  0.507463\n",
      "10  11         Houston   0.511327  0.477612\n",
      "6    7          Dallas   0.502178  0.469697\n",
      "7    8          Denver   0.420858  0.439394\n",
      "19  20        New_York   0.414393  0.426471\n",
      "16  17       Milwaukee   0.435025  0.411765\n",
      "18  19     New_Orleans   0.384521  0.411765\n",
      "27  28         Toronto   0.659347  0.393939\n",
      "5    6       Cleveland   0.692428  0.363636\n",
      "28  29            Utah   0.487206  0.313433\n",
      "13  14       LA_Lakers   0.236722  0.283582\n",
      "24  25        Portland   0.515941  0.268657\n",
      "29  30      Washington   0.483709  0.205882\n",
      "9   10    Golden_State   0.874063  0.134328\n"
     ]
    }
   ],
   "source": [
    "print('------ Ranking CMM ------')\n",
    "\n",
    "teamsNBA_ordered = teamsNBA.sort_values(by='ratingCMM', ascending=False)\n",
    "print(teamsNBA_ordered)\n",
    "\n",
    "print('------ Ranking WP ------')\n",
    "\n",
    "teamsNBA_ordered = teamsNBA.sort_values(by='ratingWP', ascending=False)\n",
    "print(teamsNBA_ordered)"
   ]
  },
  {
   "cell_type": "markdown",
   "metadata": {},
   "source": [
    "## ATP"
   ]
  },
  {
   "cell_type": "markdown",
   "metadata": {},
   "source": [
    "### Ahora hagamos lo mismo que hicimos para NBA con los datos de ATP."
   ]
  },
  {
   "cell_type": "code",
   "execution_count": 79,
   "metadata": {},
   "outputs": [
    {
     "name": "stdout",
     "output_type": "stream",
     "text": [
      "------ Jugadores ------\n",
      "           id            name        last name hand        born country\n",
      "0      100001         Gardnar           Mulloy    R  19131122.0     USA\n",
      "1      100002          Pancho           Segura    R  19210620.0     ECU\n",
      "2      100003           Frank          Sedgman    R  19271002.0     AUS\n",
      "3      100004        Giuseppe            Merlo    R  19271011.0     ITA\n",
      "4      100005  Richard Pancho         Gonzales    R  19280509.0     USA\n",
      "...       ...             ...              ...  ...         ...     ...\n",
      "45679  200593           Adria          Alvarez    U  19970412.0     ESP\n",
      "45680  200594        Kristian            Lozan    U  19981026.0     RUS\n",
      "45681  200595         Lorenzo           Bocchi    R  19971129.0     ITA\n",
      "45682  200596           Elvio         Di Cosmo    U  19971124.0     ITA\n",
      "45683  200597    Andres Ariel  Fernandez Lopez    R  19980421.0     ARG\n",
      "\n",
      "[45684 rows x 6 columns]\n",
      "------ Partidos ------\n",
      "     tourney_id                 tourney_name surface  draw_size tourney_level  \\\n",
      "0      2015-329                        Tokyo    Hard         32             A   \n",
      "1      2015-329                        Tokyo    Hard         32             A   \n",
      "2      2015-329                        Tokyo    Hard         32             A   \n",
      "3      2015-329                        Tokyo    Hard         32             A   \n",
      "4      2015-329                        Tokyo    Hard         32             A   \n",
      "...         ...                          ...     ...        ...           ...   \n",
      "2953  2015-D080  Davis Cup WG PO: BRA vs CRO    Clay          4             D   \n",
      "2954  2015-D081  Davis Cup WG PO: POL vs SVK    Hard          4             D   \n",
      "2955  2015-D081  Davis Cup WG PO: POL vs SVK    Hard          4             D   \n",
      "2956  2015-D081  Davis Cup WG PO: POL vs SVK    Hard          4             D   \n",
      "2957  2015-D081  Davis Cup WG PO: POL vs SVK    Hard          4             D   \n",
      "\n",
      "      tourney_date  match_num  winner_id  winner_seed winner_entry  ...  \\\n",
      "0         20151005          1     104527          1.0          NaN  ...   \n",
      "1         20151005          2     105147          NaN           WC  ...   \n",
      "2         20151005          3     105572          NaN            Q  ...   \n",
      "3         20151005          4     105311          NaN          NaN  ...   \n",
      "4         20151005          5     104468          3.0          NaN  ...   \n",
      "...            ...        ...        ...          ...          ...  ...   \n",
      "2953      20150918          3     106432          NaN          NaN  ...   \n",
      "2954      20150918          1     105373          NaN          NaN  ...   \n",
      "2955      20150918          2     105668          NaN          NaN  ...   \n",
      "2956      20150918          3     105373          NaN          NaN  ...   \n",
      "2957      20150918          4     104308          NaN          NaN  ...   \n",
      "\n",
      "     w_bpFaced l_ace  l_df l_svpt  l_1stIn  l_1stWon  l_2ndWon  l_SvGms  \\\n",
      "0          1.0   2.0   2.0   71.0     46.0      33.0      10.0     10.0   \n",
      "1         14.0   1.0   4.0   96.0     52.0      25.0      23.0     13.0   \n",
      "2          7.0  15.0   7.0  128.0     74.0      60.0      27.0     18.0   \n",
      "3          6.0   9.0   5.0   85.0     42.0      27.0      21.0     13.0   \n",
      "4          6.0   0.0   5.0   61.0     33.0      24.0      10.0     10.0   \n",
      "...        ...   ...   ...    ...      ...       ...       ...      ...   \n",
      "2953       NaN   NaN   NaN    NaN      NaN       NaN       NaN      NaN   \n",
      "2954       NaN   NaN   NaN    NaN      NaN       NaN       NaN      NaN   \n",
      "2955       NaN   NaN   NaN    NaN      NaN       NaN       NaN      NaN   \n",
      "2956       NaN   NaN   NaN    NaN      NaN       NaN       NaN      NaN   \n",
      "2957       NaN   NaN   NaN    NaN      NaN       NaN       NaN      NaN   \n",
      "\n",
      "      l_bpSaved l_bpFaced  \n",
      "0           2.0       5.0  \n",
      "1          12.0      19.0  \n",
      "2           9.0      11.0  \n",
      "3           4.0       8.0  \n",
      "4           1.0       5.0  \n",
      "...         ...       ...  \n",
      "2953        NaN       NaN  \n",
      "2954        NaN       NaN  \n",
      "2955        NaN       NaN  \n",
      "2956        NaN       NaN  \n",
      "2957        NaN       NaN  \n",
      "\n",
      "[2958 rows x 49 columns]\n"
     ]
    }
   ],
   "source": [
    "playersATP = pd.read_csv('data/atp_players.csv', encoding='latin-1', names=['id', 'name', 'last name', 'hand', 'born', 'country'])\n",
    "matchesATP = pd.read_csv('data/atp_matches_2015.csv')\n",
    "\n",
    "print('------ Jugadores ------')\n",
    "print(playersATP)\n",
    "print('------ Partidos ------')\n",
    "print(matchesATP)"
   ]
  },
  {
   "cell_type": "markdown",
   "metadata": {},
   "source": [
    "### Notemos que hay un problema con los id de jugadores, ya que empieza desde 1000001 y además porque se saltea varios números, ya que termina en 200597 cuando hay 45684 jugadores. Para el algoritmo CMM asumimos que los jugadores tienen id desde 1 hasta la cantidad total de jugadores lo cual en este caso no se cumple, así que vamos a tener que cambiar los id cuando escribamos el archivo .in. Lo que podemos hacer es cambiar todos los id de los jugadores en la lista de partidos y de jugadores por algunos que nos gusten (del 1 al 45683)."
   ]
  },
  {
   "cell_type": "code",
   "execution_count": 83,
   "metadata": {},
   "outputs": [
    {
     "name": "stderr",
     "output_type": "stream",
     "text": [
      "  9%|▉         | 4160/45684 [00:00<00:00, 41599.94it/s]"
     ]
    },
    {
     "name": "stdout",
     "output_type": "stream",
     "text": [
      "---------- Jugadores Repetidos ----------\n",
      "5693\n"
     ]
    },
    {
     "name": "stderr",
     "output_type": "stream",
     "text": [
      " 39%|███▉      | 17838/45684 [00:00<00:00, 44055.21it/s]"
     ]
    },
    {
     "name": "stdout",
     "output_type": "stream",
     "text": [
      "9437\n",
      "9439\n",
      "9441\n",
      "9443\n",
      "9445\n",
      "9447\n",
      "9449\n",
      "9451\n",
      "9453\n",
      "9455\n",
      "9457\n",
      "9459\n",
      "9461\n",
      "9463\n",
      "9465\n",
      "9467\n",
      "9469\n",
      "9471\n",
      "9473\n",
      "9475\n",
      "9477\n",
      "9479\n",
      "9481\n",
      "9483\n",
      "9485\n",
      "9487\n",
      "9489\n",
      "9491\n",
      "9493\n",
      "9495\n",
      "9497\n",
      "9499\n",
      "9501\n",
      "9503\n",
      "9505\n",
      "9507\n",
      "9509\n",
      "9511\n",
      "9513\n",
      "9515\n",
      "9517\n",
      "9519\n",
      "9521\n",
      "9523\n",
      "9525\n",
      "9527\n",
      "9529\n",
      "9531\n",
      "9533\n",
      "9535\n",
      "9700\n"
     ]
    },
    {
     "name": "stderr",
     "output_type": "stream",
     "text": [
      "100%|██████████| 45684/45684 [00:00<00:00, 47279.14it/s]\n"
     ]
    }
   ],
   "source": [
    "old_to_new = {}\n",
    "new_to_old = {}\n",
    "print('---------- Jugadores Repetidos ----------')\n",
    "for i in tqdm(range(len(playersATP.loc[:, 'id']))):\n",
    "    try:\n",
    "        print(old_to_new[playersATP.loc[i, 'id']])\n",
    "    except:\n",
    "        old_to_new.update({playersATP.loc[i, 'id']: i + 1})\n",
    "        new_to_old.update({i + 1: playersATP.loc[i, 'id']})"
   ]
  },
  {
   "cell_type": "markdown",
   "metadata": {},
   "source": [
    "### Esto demuestra que hay jugadores repetidos en el csv. Uno puede chequearlo si quiere abriendolo y yendo a la fila con cualquiera de estos números y viendo que hay dos filas iguales. Entonces, este diccionario tiene todos los jugadores con sus nuevos id y sin repetir y además tenemos el diccionario invertido. Esto nos va a permitir traducir rápidamente cualquier id. Ahora hagamos el archivo .in. Ya que hay tantos torneos distintos estaría bueno hacer un archivo por torneo."
   ]
  },
  {
   "cell_type": "code",
   "execution_count": 71,
   "metadata": {},
   "outputs": [],
   "source": [
    "file = open('data/atp_matches_2015.in', 'w+')\n",
    "file.write(str(len(new_to_old)) + ' ' + str(len(matchesATP)) + '\\n')\n",
    "\n",
    "for i in range(len(matchesATP)):\n",
    "    file.write(str(matchesATP.loc[i, 'tourney_id']) + ' ' + str(old_to_new[matchesATP.loc[i, 'winner_id']]) +\n",
    "               ' ' + '1' + ' ' + str(old_to_new[matchesATP.loc[i, 'loser_id']]) + ' ' + '0' + '\\n')\n",
    "file.close()"
   ]
  },
  {
   "cell_type": "code",
   "execution_count": null,
   "metadata": {},
   "outputs": [],
   "source": []
  }
 ],
 "metadata": {
  "kernelspec": {
   "display_name": "Python 3",
   "language": "python",
   "name": "python3"
  },
  "language_info": {
   "codemirror_mode": {
    "name": "ipython",
    "version": 3
   },
   "file_extension": ".py",
   "mimetype": "text/x-python",
   "name": "python",
   "nbconvert_exporter": "python",
   "pygments_lexer": "ipython3",
   "version": "3.7.4"
  }
 },
 "nbformat": 4,
 "nbformat_minor": 4
}
